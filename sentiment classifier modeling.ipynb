{
 "cells": [
  {
   "cell_type": "code",
   "execution_count": 1,
   "metadata": {},
   "outputs": [],
   "source": [
    "# imports\n",
    "##\n",
    "import numpy as np\n",
    "import pandas as pd\n",
    "import matplotlib.pyplot as plt\n",
    "%matplotlib inline\n",
    "import seaborn as sns\n",
    "sns.set_style(\"darkgrid\")\n",
    "\n",
    "from sklearn.model_selection import train_test_split, cross_val_score\n",
    "from sklearn.metrics import confusion_matrix, classification_report\n",
    "from sklearn.feature_extraction.text import CountVectorizer, TfidfTransformer, TfidfVectorizer\n",
    "from sklearn.linear_model import LogisticRegression\n",
    "from sklearn.svm import LinearSVC\n",
    "from sklearn.ensemble import RandomForestClassifier\n",
    "\n",
    "from scipy.sparse import coo_matrix, hstack\n",
    "\n",
    "import xgboost as xgb\n",
    "\n",
    "import warnings\n",
    "warnings.filterwarnings(\"ignore\")\n",
    "\n",
    "import tqdm\n",
    "from tqdm import trange"
   ]
  },
  {
   "cell_type": "code",
   "execution_count": 2,
   "metadata": {},
   "outputs": [],
   "source": [
    "# Read in the data\n",
    "##\n",
    "tweets = pd.read_csv(\"csv files/tweets.csv\")"
   ]
  },
  {
   "cell_type": "code",
   "execution_count": 3,
   "metadata": {},
   "outputs": [
    {
     "data": {
      "text/html": [
       "<div>\n",
       "<style scoped>\n",
       "    .dataframe tbody tr th:only-of-type {\n",
       "        vertical-align: middle;\n",
       "    }\n",
       "\n",
       "    .dataframe tbody tr th {\n",
       "        vertical-align: top;\n",
       "    }\n",
       "\n",
       "    .dataframe thead th {\n",
       "        text-align: right;\n",
       "    }\n",
       "</style>\n",
       "<table border=\"1\" class=\"dataframe\">\n",
       "  <thead>\n",
       "    <tr style=\"text-align: right;\">\n",
       "      <th></th>\n",
       "      <th>tweet_id</th>\n",
       "      <th>text</th>\n",
       "      <th>created_at</th>\n",
       "      <th>likes</th>\n",
       "      <th>text length</th>\n",
       "      <th>polarity</th>\n",
       "    </tr>\n",
       "  </thead>\n",
       "  <tbody>\n",
       "    <tr>\n",
       "      <th>0</th>\n",
       "      <td>1242123434466979841</td>\n",
       "      <td>everyday might good there always something goo...</td>\n",
       "      <td>2020-03-23 16:17:58</td>\n",
       "      <td>1</td>\n",
       "      <td>57</td>\n",
       "      <td>0.4</td>\n",
       "    </tr>\n",
       "    <tr>\n",
       "      <th>1</th>\n",
       "      <td>1242123396684697603</td>\n",
       "      <td>next one week</td>\n",
       "      <td>2020-03-23 16:17:49</td>\n",
       "      <td>0</td>\n",
       "      <td>13</td>\n",
       "      <td>0.0</td>\n",
       "    </tr>\n",
       "    <tr>\n",
       "      <th>2</th>\n",
       "      <td>1242123373188124673</td>\n",
       "      <td>imagine people coming self something h</td>\n",
       "      <td>2020-03-23 16:17:44</td>\n",
       "      <td>0</td>\n",
       "      <td>38</td>\n",
       "      <td>0.0</td>\n",
       "    </tr>\n",
       "    <tr>\n",
       "      <th>3</th>\n",
       "      <td>1242086219519012867</td>\n",
       "      <td>never forget remind fight corona</td>\n",
       "      <td>2020-03-23 13:50:06</td>\n",
       "      <td>0</td>\n",
       "      <td>32</td>\n",
       "      <td>0.0</td>\n",
       "    </tr>\n",
       "    <tr>\n",
       "      <th>4</th>\n",
       "      <td>1242123367882330113</td>\n",
       "      <td>they provide food outdoor step well quarante</td>\n",
       "      <td>2020-03-23 16:17:43</td>\n",
       "      <td>0</td>\n",
       "      <td>44</td>\n",
       "      <td>0.0</td>\n",
       "    </tr>\n",
       "  </tbody>\n",
       "</table>\n",
       "</div>"
      ],
      "text/plain": [
       "              tweet_id                                               text  \\\n",
       "0  1242123434466979841  everyday might good there always something goo...   \n",
       "1  1242123396684697603                                      next one week   \n",
       "2  1242123373188124673             imagine people coming self something h   \n",
       "3  1242086219519012867                   never forget remind fight corona   \n",
       "4  1242123367882330113       they provide food outdoor step well quarante   \n",
       "\n",
       "            created_at  likes  text length  polarity  \n",
       "0  2020-03-23 16:17:58      1           57       0.4  \n",
       "1  2020-03-23 16:17:49      0           13       0.0  \n",
       "2  2020-03-23 16:17:44      0           38       0.0  \n",
       "3  2020-03-23 13:50:06      0           32       0.0  \n",
       "4  2020-03-23 16:17:43      0           44       0.0  "
      ]
     },
     "execution_count": 3,
     "metadata": {},
     "output_type": "execute_result"
    }
   ],
   "source": [
    "# Preview data\n",
    "##\n",
    "tweets.head()"
   ]
  },
  {
   "cell_type": "code",
   "execution_count": 4,
   "metadata": {},
   "outputs": [
    {
     "data": {
      "text/html": [
       "<div>\n",
       "<style scoped>\n",
       "    .dataframe tbody tr th:only-of-type {\n",
       "        vertical-align: middle;\n",
       "    }\n",
       "\n",
       "    .dataframe tbody tr th {\n",
       "        vertical-align: top;\n",
       "    }\n",
       "\n",
       "    .dataframe thead th {\n",
       "        text-align: right;\n",
       "    }\n",
       "</style>\n",
       "<table border=\"1\" class=\"dataframe\">\n",
       "  <thead>\n",
       "    <tr style=\"text-align: right;\">\n",
       "      <th></th>\n",
       "      <th>tweet_id</th>\n",
       "      <th>text</th>\n",
       "      <th>created_at</th>\n",
       "      <th>likes</th>\n",
       "      <th>text length</th>\n",
       "      <th>polarity</th>\n",
       "    </tr>\n",
       "  </thead>\n",
       "  <tbody>\n",
       "    <tr>\n",
       "      <th>1185</th>\n",
       "      <td>1242064075405905921</td>\n",
       "      <td>emergency response team sent trace catholic pr...</td>\n",
       "      <td>2020-03-23 12:22:06</td>\n",
       "      <td>4</td>\n",
       "      <td>73</td>\n",
       "      <td>0.113636</td>\n",
       "    </tr>\n",
       "    <tr>\n",
       "      <th>1186</th>\n",
       "      <td>1242064012797530112</td>\n",
       "      <td>time put mandatory hate happening</td>\n",
       "      <td>2020-03-23 12:21:51</td>\n",
       "      <td>1</td>\n",
       "      <td>33</td>\n",
       "      <td>-0.800000</td>\n",
       "    </tr>\n",
       "    <tr>\n",
       "      <th>1187</th>\n",
       "      <td>1242063970632163329</td>\n",
       "      <td>people lose trust governing becomes face choice</td>\n",
       "      <td>2020-03-23 12:21:41</td>\n",
       "      <td>1</td>\n",
       "      <td>47</td>\n",
       "      <td>0.000000</td>\n",
       "    </tr>\n",
       "    <tr>\n",
       "      <th>1188</th>\n",
       "      <td>1242063856727396352</td>\n",
       "      <td>incompetent wont die</td>\n",
       "      <td>2020-03-23 12:21:14</td>\n",
       "      <td>2</td>\n",
       "      <td>20</td>\n",
       "      <td>-0.350000</td>\n",
       "    </tr>\n",
       "    <tr>\n",
       "      <th>1189</th>\n",
       "      <td>1242063643883307008</td>\n",
       "      <td>next corona virus strain even deadly see lippi...</td>\n",
       "      <td>2020-03-23 12:20:23</td>\n",
       "      <td>1</td>\n",
       "      <td>58</td>\n",
       "      <td>-0.100000</td>\n",
       "    </tr>\n",
       "  </tbody>\n",
       "</table>\n",
       "</div>"
      ],
      "text/plain": [
       "                 tweet_id                                               text  \\\n",
       "1185  1242064075405905921  emergency response team sent trace catholic pr...   \n",
       "1186  1242064012797530112                  time put mandatory hate happening   \n",
       "1187  1242063970632163329    people lose trust governing becomes face choice   \n",
       "1188  1242063856727396352                               incompetent wont die   \n",
       "1189  1242063643883307008  next corona virus strain even deadly see lippi...   \n",
       "\n",
       "               created_at  likes  text length  polarity  \n",
       "1185  2020-03-23 12:22:06      4           73  0.113636  \n",
       "1186  2020-03-23 12:21:51      1           33 -0.800000  \n",
       "1187  2020-03-23 12:21:41      1           47  0.000000  \n",
       "1188  2020-03-23 12:21:14      2           20 -0.350000  \n",
       "1189  2020-03-23 12:20:23      1           58 -0.100000  "
      ]
     },
     "execution_count": 4,
     "metadata": {},
     "output_type": "execute_result"
    }
   ],
   "source": [
    "tweets.tail()"
   ]
  },
  {
   "cell_type": "markdown",
   "metadata": {},
   "source": [
    "# EDA\n",
    "Exploring the data"
   ]
  },
  {
   "cell_type": "code",
   "execution_count": 5,
   "metadata": {},
   "outputs": [
    {
     "name": "stdout",
     "output_type": "stream",
     "text": [
      "<class 'pandas.core.frame.DataFrame'>\n",
      "RangeIndex: 1190 entries, 0 to 1189\n",
      "Data columns (total 6 columns):\n",
      " #   Column       Non-Null Count  Dtype  \n",
      "---  ------       --------------  -----  \n",
      " 0   tweet_id     1190 non-null   int64  \n",
      " 1   text         1182 non-null   object \n",
      " 2   created_at   1190 non-null   object \n",
      " 3   likes        1190 non-null   int64  \n",
      " 4   text length  1190 non-null   int64  \n",
      " 5   polarity     1190 non-null   float64\n",
      "dtypes: float64(1), int64(3), object(2)\n",
      "memory usage: 55.9+ KB\n"
     ]
    }
   ],
   "source": [
    "tweets.info()"
   ]
  },
  {
   "cell_type": "code",
   "execution_count": 6,
   "metadata": {},
   "outputs": [
    {
     "data": {
      "text/html": [
       "<div>\n",
       "<style scoped>\n",
       "    .dataframe tbody tr th:only-of-type {\n",
       "        vertical-align: middle;\n",
       "    }\n",
       "\n",
       "    .dataframe tbody tr th {\n",
       "        vertical-align: top;\n",
       "    }\n",
       "\n",
       "    .dataframe thead th {\n",
       "        text-align: right;\n",
       "    }\n",
       "</style>\n",
       "<table border=\"1\" class=\"dataframe\">\n",
       "  <thead>\n",
       "    <tr style=\"text-align: right;\">\n",
       "      <th></th>\n",
       "      <th>count</th>\n",
       "      <th>mean</th>\n",
       "      <th>std</th>\n",
       "      <th>min</th>\n",
       "      <th>25%</th>\n",
       "      <th>50%</th>\n",
       "      <th>75%</th>\n",
       "      <th>max</th>\n",
       "    </tr>\n",
       "  </thead>\n",
       "  <tbody>\n",
       "    <tr>\n",
       "      <th>tweet_id</th>\n",
       "      <td>1190.0</td>\n",
       "      <td>1.242092e+18</td>\n",
       "      <td>1.612207e+13</td>\n",
       "      <td>1.242064e+18</td>\n",
       "      <td>1.242078e+18</td>\n",
       "      <td>1.242092e+18</td>\n",
       "      <td>1.242103e+18</td>\n",
       "      <td>1.242123e+18</td>\n",
       "    </tr>\n",
       "    <tr>\n",
       "      <th>likes</th>\n",
       "      <td>1190.0</td>\n",
       "      <td>9.109244e-01</td>\n",
       "      <td>1.320269e+00</td>\n",
       "      <td>0.000000e+00</td>\n",
       "      <td>0.000000e+00</td>\n",
       "      <td>1.000000e+00</td>\n",
       "      <td>1.000000e+00</td>\n",
       "      <td>1.100000e+01</td>\n",
       "    </tr>\n",
       "    <tr>\n",
       "      <th>text length</th>\n",
       "      <td>1190.0</td>\n",
       "      <td>3.597059e+01</td>\n",
       "      <td>1.683447e+01</td>\n",
       "      <td>0.000000e+00</td>\n",
       "      <td>2.300000e+01</td>\n",
       "      <td>3.650000e+01</td>\n",
       "      <td>4.800000e+01</td>\n",
       "      <td>8.500000e+01</td>\n",
       "    </tr>\n",
       "    <tr>\n",
       "      <th>polarity</th>\n",
       "      <td>1190.0</td>\n",
       "      <td>5.597235e-02</td>\n",
       "      <td>2.477956e-01</td>\n",
       "      <td>-1.000000e+00</td>\n",
       "      <td>0.000000e+00</td>\n",
       "      <td>0.000000e+00</td>\n",
       "      <td>1.363636e-01</td>\n",
       "      <td>1.000000e+00</td>\n",
       "    </tr>\n",
       "  </tbody>\n",
       "</table>\n",
       "</div>"
      ],
      "text/plain": [
       "              count          mean           std           min           25%  \\\n",
       "tweet_id     1190.0  1.242092e+18  1.612207e+13  1.242064e+18  1.242078e+18   \n",
       "likes        1190.0  9.109244e-01  1.320269e+00  0.000000e+00  0.000000e+00   \n",
       "text length  1190.0  3.597059e+01  1.683447e+01  0.000000e+00  2.300000e+01   \n",
       "polarity     1190.0  5.597235e-02  2.477956e-01 -1.000000e+00  0.000000e+00   \n",
       "\n",
       "                      50%           75%           max  \n",
       "tweet_id     1.242092e+18  1.242103e+18  1.242123e+18  \n",
       "likes        1.000000e+00  1.000000e+00  1.100000e+01  \n",
       "text length  3.650000e+01  4.800000e+01  8.500000e+01  \n",
       "polarity     0.000000e+00  1.363636e-01  1.000000e+00  "
      ]
     },
     "execution_count": 6,
     "metadata": {},
     "output_type": "execute_result"
    }
   ],
   "source": [
    "tweets.describe().T"
   ]
  },
  {
   "cell_type": "code",
   "execution_count": 7,
   "metadata": {},
   "outputs": [
    {
     "name": "stdout",
     "output_type": "stream",
     "text": [
      "There is missing data. \n",
      "The missing data points are as follows:\n",
      " tweet_id       0\n",
      "text           8\n",
      "created_at     0\n",
      "likes          0\n",
      "text length    0\n",
      "polarity       0\n",
      "dtype: int64\n"
     ]
    }
   ],
   "source": [
    "# Checking for missing data\n",
    "##\n",
    "if tweets.isnull().values.any() == True:\n",
    "    print(\"There is missing data. \\nThe missing data points are as follows:\\n\", tweets.isnull().sum())\n",
    "else:\n",
    "    print(\"There is no missing data points.\")"
   ]
  },
  {
   "cell_type": "code",
   "execution_count": 8,
   "metadata": {},
   "outputs": [],
   "source": [
    "# Dropping the missing data points row-wise\n",
    "##\n",
    "tweets.dropna(axis=0, inplace=True)"
   ]
  },
  {
   "cell_type": "code",
   "execution_count": 9,
   "metadata": {},
   "outputs": [],
   "source": [
    "# Reset index\n",
    "##\n",
    "tweets.reset_index(drop=True, inplace=True)"
   ]
  },
  {
   "cell_type": "code",
   "execution_count": 10,
   "metadata": {},
   "outputs": [
    {
     "data": {
      "text/plain": [
       "<AxesSubplot:xlabel='text length', ylabel='Density'>"
      ]
     },
     "execution_count": 10,
     "metadata": {},
     "output_type": "execute_result"
    },
    {
     "data": {
      "image/png": "[encoded data removed]",
      "text/plain": [
       "<Figure size 432x288 with 1 Axes>"
      ]
     },
     "metadata": {},
     "output_type": "display_data"
    }
   ],
   "source": [
    "# Distribution of text length\n",
    "##\n",
    "sns.distplot(tweets['text length'])"
   ]
  },
  {
   "cell_type": "code",
   "execution_count": 11,
   "metadata": {},
   "outputs": [
    {
     "data": {
      "text/plain": [
       "0     587\n",
       "1     341\n",
       "2     150\n",
       "3      49\n",
       "4      31\n",
       "6       8\n",
       "5       6\n",
       "7       4\n",
       "10      2\n",
       "8       2\n",
       "11      1\n",
       "9       1\n",
       "Name: likes, dtype: int64"
      ]
     },
     "execution_count": 11,
     "metadata": {},
     "output_type": "execute_result"
    }
   ],
   "source": [
    "# No. of unique number_of_likes and the corresponding count\n",
    "##\n",
    "tweets['likes'].value_counts()"
   ]
  },
  {
   "cell_type": "code",
   "execution_count": 12,
   "metadata": {},
   "outputs": [
    {
     "data": {
      "text/plain": [
       "<AxesSubplot:xlabel='likes', ylabel='count'>"
      ]
     },
     "execution_count": 12,
     "metadata": {},
     "output_type": "execute_result"
    },
    {
     "data": {
      "image/png": "[encoded data removed]",
      "text/plain": [
       "<Figure size 432x288 with 1 Axes>"
      ]
     },
     "metadata": {},
     "output_type": "display_data"
    }
   ],
   "source": [
    "# Countplot of tweet likes\n",
    "##\n",
    "sns.countplot(x=tweets['likes'])"
   ]
  },
  {
   "cell_type": "markdown",
   "metadata": {},
   "source": [
    "## Feature Engineering"
   ]
  },
  {
   "cell_type": "code",
   "execution_count": 13,
   "metadata": {},
   "outputs": [
    {
     "name": "stderr",
     "output_type": "stream",
     "text": [
      "100%|██████████| 1182/1182 [00:00<00:00, 3181.71it/s]\n"
     ]
    },
    {
     "data": {
      "text/html": [
       "<div>\n",
       "<style scoped>\n",
       "    .dataframe tbody tr th:only-of-type {\n",
       "        vertical-align: middle;\n",
       "    }\n",
       "\n",
       "    .dataframe tbody tr th {\n",
       "        vertical-align: top;\n",
       "    }\n",
       "\n",
       "    .dataframe thead th {\n",
       "        text-align: right;\n",
       "    }\n",
       "</style>\n",
       "<table border=\"1\" class=\"dataframe\">\n",
       "  <thead>\n",
       "    <tr style=\"text-align: right;\">\n",
       "      <th></th>\n",
       "      <th>tweet_id</th>\n",
       "      <th>text</th>\n",
       "      <th>created_at</th>\n",
       "      <th>likes</th>\n",
       "      <th>text length</th>\n",
       "      <th>polarity</th>\n",
       "      <th>sentiment</th>\n",
       "    </tr>\n",
       "  </thead>\n",
       "  <tbody>\n",
       "    <tr>\n",
       "      <th>580</th>\n",
       "      <td>1242097938257580032</td>\n",
       "      <td>still shouting attract</td>\n",
       "      <td>2020-03-23 14:36:40</td>\n",
       "      <td>0</td>\n",
       "      <td>22</td>\n",
       "      <td>0.000000</td>\n",
       "      <td>neutral</td>\n",
       "    </tr>\n",
       "    <tr>\n",
       "      <th>801</th>\n",
       "      <td>1242090232964669442</td>\n",
       "      <td>let get straight let country priest later trav...</td>\n",
       "      <td>2020-03-23 14:06:03</td>\n",
       "      <td>2</td>\n",
       "      <td>56</td>\n",
       "      <td>0.100000</td>\n",
       "      <td>positive</td>\n",
       "    </tr>\n",
       "    <tr>\n",
       "      <th>1181</th>\n",
       "      <td>1242063643883307008</td>\n",
       "      <td>next corona virus strain even deadly see lippi...</td>\n",
       "      <td>2020-03-23 12:20:23</td>\n",
       "      <td>1</td>\n",
       "      <td>58</td>\n",
       "      <td>-0.100000</td>\n",
       "      <td>negative</td>\n",
       "    </tr>\n",
       "    <tr>\n",
       "      <th>989</th>\n",
       "      <td>1242078515396259842</td>\n",
       "      <td>say dont advertise u ready thinking miracle</td>\n",
       "      <td>2020-03-23 13:19:29</td>\n",
       "      <td>1</td>\n",
       "      <td>43</td>\n",
       "      <td>0.200000</td>\n",
       "      <td>positive</td>\n",
       "    </tr>\n",
       "    <tr>\n",
       "      <th>109</th>\n",
       "      <td>1242119552185614336</td>\n",
       "      <td>vulnerable people people b basic income vat es...</td>\n",
       "      <td>2020-03-23 16:02:33</td>\n",
       "      <td>0</td>\n",
       "      <td>58</td>\n",
       "      <td>0.050000</td>\n",
       "      <td>positive</td>\n",
       "    </tr>\n",
       "    <tr>\n",
       "      <th>759</th>\n",
       "      <td>1242091822429679617</td>\n",
       "      <td>thought issue sorted relationship current need...</td>\n",
       "      <td>2020-03-23 14:12:22</td>\n",
       "      <td>0</td>\n",
       "      <td>59</td>\n",
       "      <td>0.000000</td>\n",
       "      <td>neutral</td>\n",
       "    </tr>\n",
       "    <tr>\n",
       "      <th>457</th>\n",
       "      <td>1242073259253866502</td>\n",
       "      <td>well put let understand right trying</td>\n",
       "      <td>2020-03-23 12:58:36</td>\n",
       "      <td>0</td>\n",
       "      <td>36</td>\n",
       "      <td>0.285714</td>\n",
       "      <td>positive</td>\n",
       "    </tr>\n",
       "    <tr>\n",
       "      <th>352</th>\n",
       "      <td>1242107117735198720</td>\n",
       "      <td>imagine carrying fight play</td>\n",
       "      <td>2020-03-23 15:13:08</td>\n",
       "      <td>0</td>\n",
       "      <td>27</td>\n",
       "      <td>0.000000</td>\n",
       "      <td>neutral</td>\n",
       "    </tr>\n",
       "    <tr>\n",
       "      <th>1009</th>\n",
       "      <td>1242077333969928193</td>\n",
       "      <td>negative economical impact that leaving open life</td>\n",
       "      <td>2020-03-23 13:14:47</td>\n",
       "      <td>1</td>\n",
       "      <td>49</td>\n",
       "      <td>0.000000</td>\n",
       "      <td>neutral</td>\n",
       "    </tr>\n",
       "    <tr>\n",
       "      <th>431</th>\n",
       "      <td>1242074240117071875</td>\n",
       "      <td>lost de moment fast</td>\n",
       "      <td>2020-03-23 13:02:30</td>\n",
       "      <td>0</td>\n",
       "      <td>19</td>\n",
       "      <td>0.200000</td>\n",
       "      <td>positive</td>\n",
       "    </tr>\n",
       "    <tr>\n",
       "      <th>805</th>\n",
       "      <td>1242090162550693891</td>\n",
       "      <td>survival currently people common sense could</td>\n",
       "      <td>2020-03-23 14:05:46</td>\n",
       "      <td>1</td>\n",
       "      <td>44</td>\n",
       "      <td>-0.150000</td>\n",
       "      <td>negative</td>\n",
       "    </tr>\n",
       "    <tr>\n",
       "      <th>793</th>\n",
       "      <td>1242090556169256963</td>\n",
       "      <td>time like a</td>\n",
       "      <td>2020-03-23 14:07:20</td>\n",
       "      <td>0</td>\n",
       "      <td>11</td>\n",
       "      <td>0.000000</td>\n",
       "      <td>neutral</td>\n",
       "    </tr>\n",
       "    <tr>\n",
       "      <th>749</th>\n",
       "      <td>1242092031800991745</td>\n",
       "      <td>predictable press bringing estimate u know imp...</td>\n",
       "      <td>2020-03-23 14:13:11</td>\n",
       "      <td>0</td>\n",
       "      <td>59</td>\n",
       "      <td>-0.433333</td>\n",
       "      <td>negative</td>\n",
       "    </tr>\n",
       "    <tr>\n",
       "      <th>364</th>\n",
       "      <td>1242106305663426562</td>\n",
       "      <td>could county even pope decided go exile</td>\n",
       "      <td>2020-03-23 15:09:55</td>\n",
       "      <td>0</td>\n",
       "      <td>39</td>\n",
       "      <td>0.000000</td>\n",
       "      <td>neutral</td>\n",
       "    </tr>\n",
       "    <tr>\n",
       "      <th>502</th>\n",
       "      <td>1242100642954596353</td>\n",
       "      <td>could</td>\n",
       "      <td>2020-03-23 14:47:25</td>\n",
       "      <td>0</td>\n",
       "      <td>5</td>\n",
       "      <td>0.000000</td>\n",
       "      <td>neutral</td>\n",
       "    </tr>\n",
       "  </tbody>\n",
       "</table>\n",
       "</div>"
      ],
      "text/plain": [
       "                 tweet_id                                               text  \\\n",
       "580   1242097938257580032                             still shouting attract   \n",
       "801   1242090232964669442  let get straight let country priest later trav...   \n",
       "1181  1242063643883307008  next corona virus strain even deadly see lippi...   \n",
       "989   1242078515396259842        say dont advertise u ready thinking miracle   \n",
       "109   1242119552185614336  vulnerable people people b basic income vat es...   \n",
       "759   1242091822429679617  thought issue sorted relationship current need...   \n",
       "457   1242073259253866502               well put let understand right trying   \n",
       "352   1242107117735198720                        imagine carrying fight play   \n",
       "1009  1242077333969928193  negative economical impact that leaving open life   \n",
       "431   1242074240117071875                                lost de moment fast   \n",
       "805   1242090162550693891       survival currently people common sense could   \n",
       "793   1242090556169256963                                        time like a   \n",
       "749   1242092031800991745  predictable press bringing estimate u know imp...   \n",
       "364   1242106305663426562            could county even pope decided go exile   \n",
       "502   1242100642954596353                                              could   \n",
       "\n",
       "               created_at  likes  text length  polarity sentiment  \n",
       "580   2020-03-23 14:36:40      0           22  0.000000   neutral  \n",
       "801   2020-03-23 14:06:03      2           56  0.100000  positive  \n",
       "1181  2020-03-23 12:20:23      1           58 -0.100000  negative  \n",
       "989   2020-03-23 13:19:29      1           43  0.200000  positive  \n",
       "109   2020-03-23 16:02:33      0           58  0.050000  positive  \n",
       "759   2020-03-23 14:12:22      0           59  0.000000   neutral  \n",
       "457   2020-03-23 12:58:36      0           36  0.285714  positive  \n",
       "352   2020-03-23 15:13:08      0           27  0.000000   neutral  \n",
       "1009  2020-03-23 13:14:47      1           49  0.000000   neutral  \n",
       "431   2020-03-23 13:02:30      0           19  0.200000  positive  \n",
       "805   2020-03-23 14:05:46      1           44 -0.150000  negative  \n",
       "793   2020-03-23 14:07:20      0           11  0.000000   neutral  \n",
       "749   2020-03-23 14:13:11      0           59 -0.433333  negative  \n",
       "364   2020-03-23 15:09:55      0           39  0.000000   neutral  \n",
       "502   2020-03-23 14:47:25      0            5  0.000000   neutral  "
      ]
     },
     "execution_count": 13,
     "metadata": {},
     "output_type": "execute_result"
    }
   ],
   "source": [
    "# Let's classify sentiment as negative, neutral or positive\n",
    "##\n",
    "tweets['sentiment'] = np.nan\n",
    "\n",
    "for i in trange(len(tweets)):\n",
    "    if tweets['polarity'][i] < 0:\n",
    "        tweets['sentiment'][i] = 'negative'\n",
    "    elif tweets['polarity'][i] == 0:\n",
    "        tweets['sentiment'][i] = 'neutral'\n",
    "    else:\n",
    "        tweets['sentiment'][i] = 'positive'\n",
    "\n",
    "# Preview tweets\n",
    "tweets.sample(15)"
   ]
  },
  {
   "cell_type": "code",
   "execution_count": 14,
   "metadata": {},
   "outputs": [
    {
     "data": {
      "text/html": [
       "<div>\n",
       "<style scoped>\n",
       "    .dataframe tbody tr th:only-of-type {\n",
       "        vertical-align: middle;\n",
       "    }\n",
       "\n",
       "    .dataframe tbody tr th {\n",
       "        vertical-align: top;\n",
       "    }\n",
       "\n",
       "    .dataframe thead th {\n",
       "        text-align: right;\n",
       "    }\n",
       "</style>\n",
       "<table border=\"1\" class=\"dataframe\">\n",
       "  <thead>\n",
       "    <tr style=\"text-align: right;\">\n",
       "      <th></th>\n",
       "      <th>tweet_id</th>\n",
       "      <th>text</th>\n",
       "      <th>created_at</th>\n",
       "      <th>likes</th>\n",
       "      <th>text length</th>\n",
       "      <th>polarity</th>\n",
       "      <th>sentiment</th>\n",
       "      <th>target</th>\n",
       "    </tr>\n",
       "  </thead>\n",
       "  <tbody>\n",
       "    <tr>\n",
       "      <th>640</th>\n",
       "      <td>1242096244350242816</td>\n",
       "      <td>religiosity number curse</td>\n",
       "      <td>2020-03-23 14:29:56</td>\n",
       "      <td>0</td>\n",
       "      <td>24</td>\n",
       "      <td>0.000</td>\n",
       "      <td>neutral</td>\n",
       "      <td>0</td>\n",
       "    </tr>\n",
       "    <tr>\n",
       "      <th>1101</th>\n",
       "      <td>1242070386071818243</td>\n",
       "      <td>among resolved make use</td>\n",
       "      <td>2020-03-23 12:47:11</td>\n",
       "      <td>0</td>\n",
       "      <td>23</td>\n",
       "      <td>0.000</td>\n",
       "      <td>neutral</td>\n",
       "      <td>0</td>\n",
       "    </tr>\n",
       "    <tr>\n",
       "      <th>194</th>\n",
       "      <td>1242068120627482624</td>\n",
       "      <td>every day pas roughly staff working everyday</td>\n",
       "      <td>2020-03-23 12:38:11</td>\n",
       "      <td>1</td>\n",
       "      <td>44</td>\n",
       "      <td>-0.150</td>\n",
       "      <td>negative</td>\n",
       "      <td>-1</td>\n",
       "    </tr>\n",
       "    <tr>\n",
       "      <th>365</th>\n",
       "      <td>1242077487011676163</td>\n",
       "      <td>u go back lord u could</td>\n",
       "      <td>2020-03-23 13:15:24</td>\n",
       "      <td>0</td>\n",
       "      <td>22</td>\n",
       "      <td>0.000</td>\n",
       "      <td>neutral</td>\n",
       "      <td>0</td>\n",
       "    </tr>\n",
       "    <tr>\n",
       "      <th>912</th>\n",
       "      <td>1242083768246177794</td>\n",
       "      <td>hand powerful buy even pastor</td>\n",
       "      <td>2020-03-23 13:40:21</td>\n",
       "      <td>2</td>\n",
       "      <td>29</td>\n",
       "      <td>0.300</td>\n",
       "      <td>positive</td>\n",
       "      <td>1</td>\n",
       "    </tr>\n",
       "    <tr>\n",
       "      <th>1003</th>\n",
       "      <td>1242077748782391297</td>\n",
       "      <td>full bed whole area mess plus</td>\n",
       "      <td>2020-03-23 13:16:26</td>\n",
       "      <td>0</td>\n",
       "      <td>29</td>\n",
       "      <td>0.125</td>\n",
       "      <td>positive</td>\n",
       "      <td>1</td>\n",
       "    </tr>\n",
       "    <tr>\n",
       "      <th>1025</th>\n",
       "      <td>1242076538025259009</td>\n",
       "      <td>eliminate automatically</td>\n",
       "      <td>2020-03-23 13:11:37</td>\n",
       "      <td>0</td>\n",
       "      <td>23</td>\n",
       "      <td>0.000</td>\n",
       "      <td>neutral</td>\n",
       "      <td>0</td>\n",
       "    </tr>\n",
       "    <tr>\n",
       "      <th>493</th>\n",
       "      <td>1242101051093856261</td>\n",
       "      <td>dear foremost need test whoever posted could dont</td>\n",
       "      <td>2020-03-23 14:49:02</td>\n",
       "      <td>2</td>\n",
       "      <td>49</td>\n",
       "      <td>0.000</td>\n",
       "      <td>neutral</td>\n",
       "      <td>0</td>\n",
       "    </tr>\n",
       "    <tr>\n",
       "      <th>19</th>\n",
       "      <td>1242122752032718849</td>\n",
       "      <td>dont understand pleading like fare threaten hi</td>\n",
       "      <td>2020-03-23 16:15:16</td>\n",
       "      <td>1</td>\n",
       "      <td>46</td>\n",
       "      <td>0.000</td>\n",
       "      <td>neutral</td>\n",
       "      <td>0</td>\n",
       "    </tr>\n",
       "    <tr>\n",
       "      <th>81</th>\n",
       "      <td>1242113897286578182</td>\n",
       "      <td>end day stop write grateful middle could</td>\n",
       "      <td>2020-03-23 15:40:05</td>\n",
       "      <td>0</td>\n",
       "      <td>40</td>\n",
       "      <td>0.000</td>\n",
       "      <td>neutral</td>\n",
       "      <td>0</td>\n",
       "    </tr>\n",
       "    <tr>\n",
       "      <th>1156</th>\n",
       "      <td>1242065128935370752</td>\n",
       "      <td>person age get disease wash avoid crowded help...</td>\n",
       "      <td>2020-03-23 12:26:17</td>\n",
       "      <td>3</td>\n",
       "      <td>51</td>\n",
       "      <td>0.000</td>\n",
       "      <td>neutral</td>\n",
       "      <td>0</td>\n",
       "    </tr>\n",
       "    <tr>\n",
       "      <th>398</th>\n",
       "      <td>1242105006624591878</td>\n",
       "      <td>meanwhile follow</td>\n",
       "      <td>2020-03-23 15:04:45</td>\n",
       "      <td>0</td>\n",
       "      <td>16</td>\n",
       "      <td>0.000</td>\n",
       "      <td>neutral</td>\n",
       "      <td>0</td>\n",
       "    </tr>\n",
       "    <tr>\n",
       "      <th>849</th>\n",
       "      <td>1242072591503970304</td>\n",
       "      <td>dear make primary responsibility make sure saf...</td>\n",
       "      <td>2020-03-23 12:55:57</td>\n",
       "      <td>4</td>\n",
       "      <td>59</td>\n",
       "      <td>0.475</td>\n",
       "      <td>positive</td>\n",
       "      <td>1</td>\n",
       "    </tr>\n",
       "    <tr>\n",
       "      <th>40</th>\n",
       "      <td>1242085234184781829</td>\n",
       "      <td>hullabaloo u</td>\n",
       "      <td>2020-03-23 13:46:11</td>\n",
       "      <td>0</td>\n",
       "      <td>12</td>\n",
       "      <td>0.000</td>\n",
       "      <td>neutral</td>\n",
       "      <td>0</td>\n",
       "    </tr>\n",
       "    <tr>\n",
       "      <th>356</th>\n",
       "      <td>1242106815518736385</td>\n",
       "      <td>guy decided today influence recently twitter t...</td>\n",
       "      <td>2020-03-23 15:11:56</td>\n",
       "      <td>3</td>\n",
       "      <td>52</td>\n",
       "      <td>0.000</td>\n",
       "      <td>neutral</td>\n",
       "      <td>0</td>\n",
       "    </tr>\n",
       "  </tbody>\n",
       "</table>\n",
       "</div>"
      ],
      "text/plain": [
       "                 tweet_id                                               text  \\\n",
       "640   1242096244350242816                           religiosity number curse   \n",
       "1101  1242070386071818243                            among resolved make use   \n",
       "194   1242068120627482624       every day pas roughly staff working everyday   \n",
       "365   1242077487011676163                             u go back lord u could   \n",
       "912   1242083768246177794                      hand powerful buy even pastor   \n",
       "1003  1242077748782391297                      full bed whole area mess plus   \n",
       "1025  1242076538025259009                            eliminate automatically   \n",
       "493   1242101051093856261  dear foremost need test whoever posted could dont   \n",
       "19    1242122752032718849     dont understand pleading like fare threaten hi   \n",
       "81    1242113897286578182           end day stop write grateful middle could   \n",
       "1156  1242065128935370752  person age get disease wash avoid crowded help...   \n",
       "398   1242105006624591878                                   meanwhile follow   \n",
       "849   1242072591503970304  dear make primary responsibility make sure saf...   \n",
       "40    1242085234184781829                                       hullabaloo u   \n",
       "356   1242106815518736385  guy decided today influence recently twitter t...   \n",
       "\n",
       "               created_at  likes  text length  polarity sentiment  target  \n",
       "640   2020-03-23 14:29:56      0           24     0.000   neutral       0  \n",
       "1101  2020-03-23 12:47:11      0           23     0.000   neutral       0  \n",
       "194   2020-03-23 12:38:11      1           44    -0.150  negative      -1  \n",
       "365   2020-03-23 13:15:24      0           22     0.000   neutral       0  \n",
       "912   2020-03-23 13:40:21      2           29     0.300  positive       1  \n",
       "1003  2020-03-23 13:16:26      0           29     0.125  positive       1  \n",
       "1025  2020-03-23 13:11:37      0           23     0.000   neutral       0  \n",
       "493   2020-03-23 14:49:02      2           49     0.000   neutral       0  \n",
       "19    2020-03-23 16:15:16      1           46     0.000   neutral       0  \n",
       "81    2020-03-23 15:40:05      0           40     0.000   neutral       0  \n",
       "1156  2020-03-23 12:26:17      3           51     0.000   neutral       0  \n",
       "398   2020-03-23 15:04:45      0           16     0.000   neutral       0  \n",
       "849   2020-03-23 12:55:57      4           59     0.475  positive       1  \n",
       "40    2020-03-23 13:46:11      0           12     0.000   neutral       0  \n",
       "356   2020-03-23 15:11:56      3           52     0.000   neutral       0  "
      ]
     },
     "execution_count": 14,
     "metadata": {},
     "output_type": "execute_result"
    }
   ],
   "source": [
    "# Creating the target variable based off of the sentiment column\n",
    "##\n",
    "mapper = {\n",
    "    'negative': -1,\n",
    "    'neutral': 0,\n",
    "    'positive': 1\n",
    "}\n",
    "\n",
    "tweets['target'] = tweets['sentiment'].map(mapper)\n",
    "\n",
    "# Preview\n",
    "tweets.sample(15)"
   ]
  },
  {
   "cell_type": "code",
   "execution_count": 15,
   "metadata": {},
   "outputs": [],
   "source": [
    "# Create another feature wordcount and compare its distribution with that of text length\n",
    "# to see which best fits as a feature to be used in the model\n",
    "##\n",
    "tweets['word count'] = tweets['text'].apply(lambda text: len(text.split()))"
   ]
  },
  {
   "cell_type": "code",
   "execution_count": 16,
   "metadata": {},
   "outputs": [
    {
     "data": {
      "image/png": "[encoded data removed]",
      "text/plain": [
       "<Figure size 720x288 with 2 Axes>"
      ]
     },
     "metadata": {},
     "output_type": "display_data"
    }
   ],
   "source": [
    "# Comparing the two distributions\n",
    "##\n",
    "fig, axes = plt.subplots(ncols=2, figsize=(10,4))\n",
    "\n",
    "sns.distplot(tweets['text length'], ax=axes[0])\n",
    "axes[0].set_title(\"Distribution of text length\")\n",
    "\n",
    "sns.distplot(tweets['word count'], ax=axes[1])\n",
    "axes[1].set_title(\"Distribution of word count\")\n",
    "\n",
    "plt.tight_layout()"
   ]
  },
  {
   "cell_type": "markdown",
   "metadata": {},
   "source": [
    "Seems that the two distributions have an identical pattern  \n",
    "We'll use both features in the model building phase"
   ]
  },
  {
   "cell_type": "code",
   "execution_count": 17,
   "metadata": {},
   "outputs": [
    {
     "data": {
      "text/html": [
       "<div>\n",
       "<style scoped>\n",
       "    .dataframe tbody tr th:only-of-type {\n",
       "        vertical-align: middle;\n",
       "    }\n",
       "\n",
       "    .dataframe tbody tr th {\n",
       "        vertical-align: top;\n",
       "    }\n",
       "\n",
       "    .dataframe thead th {\n",
       "        text-align: right;\n",
       "    }\n",
       "</style>\n",
       "<table border=\"1\" class=\"dataframe\">\n",
       "  <thead>\n",
       "    <tr style=\"text-align: right;\">\n",
       "      <th></th>\n",
       "      <th>tweet_id</th>\n",
       "      <th>text</th>\n",
       "      <th>created_at</th>\n",
       "      <th>likes</th>\n",
       "      <th>text length</th>\n",
       "      <th>polarity</th>\n",
       "      <th>sentiment</th>\n",
       "      <th>target</th>\n",
       "      <th>word count</th>\n",
       "    </tr>\n",
       "  </thead>\n",
       "  <tbody>\n",
       "    <tr>\n",
       "      <th>0</th>\n",
       "      <td>1242123434466979841</td>\n",
       "      <td>everyday might good there always something goo...</td>\n",
       "      <td>2020-03-23 16:17:58</td>\n",
       "      <td>1</td>\n",
       "      <td>57</td>\n",
       "      <td>0.4</td>\n",
       "      <td>positive</td>\n",
       "      <td>1</td>\n",
       "      <td>9</td>\n",
       "    </tr>\n",
       "    <tr>\n",
       "      <th>1</th>\n",
       "      <td>1242123396684697603</td>\n",
       "      <td>next one week</td>\n",
       "      <td>2020-03-23 16:17:49</td>\n",
       "      <td>0</td>\n",
       "      <td>13</td>\n",
       "      <td>0.0</td>\n",
       "      <td>neutral</td>\n",
       "      <td>0</td>\n",
       "      <td>3</td>\n",
       "    </tr>\n",
       "    <tr>\n",
       "      <th>2</th>\n",
       "      <td>1242123373188124673</td>\n",
       "      <td>imagine people coming self something h</td>\n",
       "      <td>2020-03-23 16:17:44</td>\n",
       "      <td>0</td>\n",
       "      <td>38</td>\n",
       "      <td>0.0</td>\n",
       "      <td>neutral</td>\n",
       "      <td>0</td>\n",
       "      <td>6</td>\n",
       "    </tr>\n",
       "    <tr>\n",
       "      <th>3</th>\n",
       "      <td>1242086219519012867</td>\n",
       "      <td>never forget remind fight corona</td>\n",
       "      <td>2020-03-23 13:50:06</td>\n",
       "      <td>0</td>\n",
       "      <td>32</td>\n",
       "      <td>0.0</td>\n",
       "      <td>neutral</td>\n",
       "      <td>0</td>\n",
       "      <td>5</td>\n",
       "    </tr>\n",
       "    <tr>\n",
       "      <th>4</th>\n",
       "      <td>1242123367882330113</td>\n",
       "      <td>they provide food outdoor step well quarante</td>\n",
       "      <td>2020-03-23 16:17:43</td>\n",
       "      <td>0</td>\n",
       "      <td>44</td>\n",
       "      <td>0.0</td>\n",
       "      <td>neutral</td>\n",
       "      <td>0</td>\n",
       "      <td>7</td>\n",
       "    </tr>\n",
       "  </tbody>\n",
       "</table>\n",
       "</div>"
      ],
      "text/plain": [
       "              tweet_id                                               text  \\\n",
       "0  1242123434466979841  everyday might good there always something goo...   \n",
       "1  1242123396684697603                                      next one week   \n",
       "2  1242123373188124673             imagine people coming self something h   \n",
       "3  1242086219519012867                   never forget remind fight corona   \n",
       "4  1242123367882330113       they provide food outdoor step well quarante   \n",
       "\n",
       "            created_at  likes  text length  polarity sentiment  target  \\\n",
       "0  2020-03-23 16:17:58      1           57       0.4  positive       1   \n",
       "1  2020-03-23 16:17:49      0           13       0.0   neutral       0   \n",
       "2  2020-03-23 16:17:44      0           38       0.0   neutral       0   \n",
       "3  2020-03-23 13:50:06      0           32       0.0   neutral       0   \n",
       "4  2020-03-23 16:17:43      0           44       0.0   neutral       0   \n",
       "\n",
       "   word count  \n",
       "0           9  \n",
       "1           3  \n",
       "2           6  \n",
       "3           5  \n",
       "4           7  "
      ]
     },
     "execution_count": 17,
     "metadata": {},
     "output_type": "execute_result"
    }
   ],
   "source": [
    "tweets.head()"
   ]
  },
  {
   "cell_type": "markdown",
   "metadata": {},
   "source": [
    "## Model Building"
   ]
  },
  {
   "cell_type": "code",
   "execution_count": 18,
   "metadata": {},
   "outputs": [
    {
     "data": {
      "text/plain": [
       "CountVectorizer()"
      ]
     },
     "execution_count": 18,
     "metadata": {},
     "output_type": "execute_result"
    }
   ],
   "source": [
    "# BOW (bag of words)\n",
    "##\n",
    "cv = CountVectorizer(analyzer='word')\n",
    "\n",
    "cv.fit(tweets['text'])"
   ]
  },
  {
   "cell_type": "code",
   "execution_count": 19,
   "metadata": {},
   "outputs": [
    {
     "name": "stdout",
     "output_type": "stream",
     "text": [
      "1958\n"
     ]
    }
   ],
   "source": [
    "# Preview vocabulary and the number of vocab words\n",
    "##\n",
    "print(len(cv.vocabulary_))"
   ]
  },
  {
   "cell_type": "code",
   "execution_count": 21,
   "metadata": {},
   "outputs": [
    {
     "data": {
      "text/plain": [
       "['everyday',\n",
       " 'might',\n",
       " 'good',\n",
       " 'there',\n",
       " 'always',\n",
       " 'something',\n",
       " 'day',\n",
       " 'could',\n",
       " 'next',\n",
       " 'one']"
      ]
     },
     "execution_count": 21,
     "metadata": {},
     "output_type": "execute_result"
    }
   ],
   "source": [
    "list(cv.vocabulary_)[:10]"
   ]
  },
  {
   "cell_type": "code",
   "execution_count": 22,
   "metadata": {},
   "outputs": [
    {
     "name": "stdout",
     "output_type": "stream",
     "text": [
      "  (0, 58)\t1\n",
      "  (0, 374)\t1\n",
      "  (0, 420)\t1\n",
      "  (0, 580)\t1\n",
      "  (0, 724)\t2\n",
      "  (0, 1072)\t1\n",
      "  (0, 1599)\t1\n",
      "  (0, 1724)\t1\n"
     ]
    }
   ],
   "source": [
    "# Example transforming a single text\n",
    "##\n",
    "print(cv.transform([tweets['text'][0]]))"
   ]
  },
  {
   "cell_type": "code",
   "execution_count": 23,
   "metadata": {},
   "outputs": [
    {
     "data": {
      "text/plain": [
       "'good'"
      ]
     },
     "execution_count": 23,
     "metadata": {},
     "output_type": "execute_result"
    }
   ],
   "source": [
    "# Example getting the feature name by index\n",
    "##\n",
    "cv.get_feature_names()[724]"
   ]
  },
  {
   "cell_type": "code",
   "execution_count": 24,
   "metadata": {},
   "outputs": [],
   "source": [
    "# Transforming the whole BOW to a sparse matrix\n",
    "##\n",
    "bow_text = cv.transform(tweets['text'])"
   ]
  },
  {
   "cell_type": "code",
   "execution_count": 25,
   "metadata": {},
   "outputs": [
    {
     "data": {
      "text/plain": [
       "6455"
      ]
     },
     "execution_count": 25,
     "metadata": {},
     "output_type": "execute_result"
    }
   ],
   "source": [
    "# Non-zero occurrences\n",
    "##\n",
    "bow_text.nnz"
   ]
  },
  {
   "cell_type": "code",
   "execution_count": 26,
   "metadata": {},
   "outputs": [
    {
     "data": {
      "text/plain": [
       "TfidfTransformer()"
      ]
     },
     "execution_count": 26,
     "metadata": {},
     "output_type": "execute_result"
    }
   ],
   "source": [
    "# tfidf weighting\n",
    "##\n",
    "tfidf_transformer = TfidfTransformer()\n",
    "\n",
    "tfidf_transformer.fit(bow_text)"
   ]
  },
  {
   "cell_type": "code",
   "execution_count": 27,
   "metadata": {},
   "outputs": [
    {
     "name": "stdout",
     "output_type": "stream",
     "text": [
      "  (0, 1724)\t0.3537881182770148\n",
      "  (0, 1599)\t0.31966304511247007\n",
      "  (0, 1072)\t0.31025800282988647\n",
      "  (0, 724)\t0.5665166663853541\n",
      "  (0, 580)\t0.37661555463428\n",
      "  (0, 420)\t0.28325833319267707\n",
      "  (0, 374)\t0.1665231693082509\n",
      "  (0, 58)\t0.32502894965067836\n"
     ]
    }
   ],
   "source": [
    "# Example transforming a single bow\n",
    "##\n",
    "print(tfidf_transformer.transform(cv.transform([tweets['text'][0]])))"
   ]
  },
  {
   "cell_type": "code",
   "execution_count": 28,
   "metadata": {},
   "outputs": [
    {
     "data": {
      "text/plain": [
       "5.0312864262549635"
      ]
     },
     "execution_count": 28,
     "metadata": {},
     "output_type": "execute_result"
    }
   ],
   "source": [
    "# Example getting idf weight of a word\n",
    "##\n",
    "tfidf_transformer.idf_[cv.vocabulary_['good']]"
   ]
  },
  {
   "cell_type": "code",
   "execution_count": 29,
   "metadata": {},
   "outputs": [],
   "source": [
    "# Transforming the whole sparse matrix\n",
    "##\n",
    "tfidf_text = tfidf_transformer.transform(bow_text)"
   ]
  },
  {
   "cell_type": "markdown",
   "metadata": {},
   "source": [
    "Adding 'text length' and 'word count' as features to the model  \n",
    "We'll stack the features to the sparse matrix horizontally"
   ]
  },
  {
   "cell_type": "code",
   "execution_count": 30,
   "metadata": {},
   "outputs": [
    {
     "data": {
      "text/plain": [
       "'# Transforming the two columns into sparse matrices\\n##\\ntxt_length = coo_matrix(tweets[\\'text length\\']).reshape(1182,1)\\nwrd_cnt = coo_matrix(tweets[\\'word count\\']).reshape(1182,1)\\n\\nfeatures = hstack([tfidf_text, txt_length, wrd_cnt])\\n\\n# Preview difference in shapes\\nprint(\"Shape of text column sparse matrix: \", tfidf_text.shape)\\nprint(\"Shape of concatenated features sparse matrix: \", features.shape)'"
      ]
     },
     "execution_count": 30,
     "metadata": {},
     "output_type": "execute_result"
    }
   ],
   "source": [
    "\"\"\"# Transforming the two columns into sparse matrices\n",
    "##\n",
    "txt_length = coo_matrix(tweets['text length']).reshape(1182,1)\n",
    "wrd_cnt = coo_matrix(tweets['word count']).reshape(1182,1)\n",
    "\n",
    "features = hstack([tfidf_text, txt_length, wrd_cnt])\n",
    "\n",
    "# Preview difference in shapes\n",
    "print(\"Shape of text column sparse matrix: \", tfidf_text.shape)\n",
    "print(\"Shape of concatenated features sparse matrix: \", features.shape)\"\"\""
   ]
  },
  {
   "cell_type": "code",
   "execution_count": 31,
   "metadata": {},
   "outputs": [],
   "source": [
    "features = tfidf_text"
   ]
  },
  {
   "cell_type": "markdown",
   "metadata": {},
   "source": [
    "## Comparing different classification models:  \n",
    "- Logistic Regression\n",
    "- Linear SVC (svm)\n",
    "- Random Forest Classifier\n",
    "- Xgboost Classifier"
   ]
  },
  {
   "cell_type": "code",
   "execution_count": 32,
   "metadata": {},
   "outputs": [],
   "source": [
    "# Splitting data into train and test splits\n",
    "##\n",
    "X_train, X_test, y_train, y_test = train_test_split(features, tweets['target'], test_size=0.2)"
   ]
  },
  {
   "cell_type": "code",
   "execution_count": 33,
   "metadata": {},
   "outputs": [],
   "source": [
    "# Initialize models\n",
    "##\n",
    "lr = LogisticRegression(C=2.0, class_weight=None, dual=False, max_iter=100)\n",
    "\n",
    "svc = LinearSVC(C=2.0, class_weight=None, dual=False, max_iter=100)\n",
    "\n",
    "rfc = RandomForestClassifier(bootstrap=False, class_weight=None, \n",
    "                             criterion='entropy', min_samples_split=6, n_estimators=160, warm_start=False)\n",
    "\n",
    "xgb = xgb.XGBClassifier(objective='multi:softmax', num_class=3)"
   ]
  },
  {
   "cell_type": "code",
   "execution_count": 34,
   "metadata": {},
   "outputs": [
    {
     "name": "stdout",
     "output_type": "stream",
     "text": [
      "[20:10:15] WARNING: ../src/learner.cc:1061: Starting in XGBoost 1.3.0, the default evaluation metric used with the objective 'multi:softprob' was changed from 'merror' to 'mlogloss'. Explicitly set eval_metric if you'd like to restore the old behavior.\n"
     ]
    },
    {
     "data": {
      "text/plain": [
       "XGBClassifier(base_score=0.5, booster='gbtree', colsample_bylevel=1,\n",
       "              colsample_bynode=1, colsample_bytree=1, gamma=0, gpu_id=-1,\n",
       "              importance_type='gain', interaction_constraints='',\n",
       "              learning_rate=0.300000012, max_delta_step=0, max_depth=6,\n",
       "              min_child_weight=1, missing=nan, monotone_constraints='()',\n",
       "              n_estimators=100, n_jobs=4, num_class=3, num_parallel_tree=1,\n",
       "              objective='multi:softprob', random_state=0, reg_alpha=0,\n",
       "              reg_lambda=1, scale_pos_weight=None, subsample=1,\n",
       "              tree_method='exact', validate_parameters=1, verbosity=None)"
      ]
     },
     "execution_count": 34,
     "metadata": {},
     "output_type": "execute_result"
    }
   ],
   "source": [
    "# Train models\n",
    "##\n",
    "lr.fit(X_train, y_train)\n",
    "\n",
    "svc.fit(X_train, y_train)\n",
    "\n",
    "rfc.fit(X_train, y_train)\n",
    "\n",
    "xgb.fit(X_train,y_train)"
   ]
  },
  {
   "cell_type": "code",
   "execution_count": 35,
   "metadata": {},
   "outputs": [],
   "source": [
    "# Make predictions\n",
    "##\n",
    "lr_pred = lr.predict(X_test)\n",
    "\n",
    "svc_pred = svc.predict(X_test)\n",
    "\n",
    "rfc_pred = rfc.predict(X_test)\n",
    "\n",
    "xgb_pred = xgb.predict(X_test)"
   ]
  },
  {
   "cell_type": "code",
   "execution_count": 36,
   "metadata": {},
   "outputs": [
    {
     "name": "stdout",
     "output_type": "stream",
     "text": [
      "Logistic Regression \n",
      "----------------------------------\n",
      "[[  6  21   2]\n",
      " [  0 119   8]\n",
      " [  1  40  40]]\n",
      "              precision    recall  f1-score   support\n",
      "\n",
      "          -1       0.86      0.21      0.33        29\n",
      "           0       0.66      0.94      0.78       127\n",
      "           1       0.80      0.49      0.61        81\n",
      "\n",
      "    accuracy                           0.70       237\n",
      "   macro avg       0.77      0.55      0.57       237\n",
      "weighted avg       0.73      0.70      0.66       237\n",
      "\n",
      "Linear SVC \n",
      "---------------------------------\n",
      "[[ 11  16   2]\n",
      " [  2 114  11]\n",
      " [  4  30  47]]\n",
      "              precision    recall  f1-score   support\n",
      "\n",
      "          -1       0.65      0.38      0.48        29\n",
      "           0       0.71      0.90      0.79       127\n",
      "           1       0.78      0.58      0.67        81\n",
      "\n",
      "    accuracy                           0.73       237\n",
      "   macro avg       0.71      0.62      0.65       237\n",
      "weighted avg       0.73      0.73      0.71       237\n",
      "\n",
      "Random Forest Classifier \n",
      "----------------------------------\n",
      "[[ 10  16   3]\n",
      " [  1 120   6]\n",
      " [  3  27  51]]\n",
      "              precision    recall  f1-score   support\n",
      "\n",
      "          -1       0.71      0.34      0.47        29\n",
      "           0       0.74      0.94      0.83       127\n",
      "           1       0.85      0.63      0.72        81\n",
      "\n",
      "    accuracy                           0.76       237\n",
      "   macro avg       0.77      0.64      0.67       237\n",
      "weighted avg       0.77      0.76      0.75       237\n",
      "\n",
      "Xgboost Classifier \n",
      "----------------------------------\n",
      "[[  9  18   2]\n",
      " [  2 115  10]\n",
      " [  5  24  52]]\n",
      "              precision    recall  f1-score   support\n",
      "\n",
      "          -1       0.56      0.31      0.40        29\n",
      "           0       0.73      0.91      0.81       127\n",
      "           1       0.81      0.64      0.72        81\n",
      "\n",
      "    accuracy                           0.74       237\n",
      "   macro avg       0.70      0.62      0.64       237\n",
      "weighted avg       0.74      0.74      0.73       237\n",
      "\n"
     ]
    }
   ],
   "source": [
    "# Evaluate models\n",
    "##\n",
    "print(\"Logistic Regression \\n----------------------------------\")\n",
    "print(confusion_matrix(y_test, lr_pred))\n",
    "print(classification_report(y_test, lr_pred))\n",
    "print(\"Linear SVC \\n---------------------------------\")\n",
    "print(confusion_matrix(y_test, svc_pred))\n",
    "print(classification_report(y_test, svc_pred))\n",
    "print(\"Random Forest Classifier \\n----------------------------------\")\n",
    "print(confusion_matrix(y_test, rfc_pred))\n",
    "print(classification_report(y_test, rfc_pred))\n",
    "print(\"Xgboost Classifier \\n----------------------------------\")\n",
    "print(confusion_matrix(y_test, xgb_pred))\n",
    "print(classification_report(y_test, xgb_pred))"
   ]
  },
  {
   "cell_type": "code",
   "execution_count": 38,
   "metadata": {},
   "outputs": [
    {
     "data": {
      "text/plain": [
       "array([0.76371308, 0.76371308, 0.77966102, 0.75847458, 0.74152542])"
      ]
     },
     "execution_count": 38,
     "metadata": {},
     "output_type": "execute_result"
    }
   ],
   "source": [
    "cross_val_score(rfc, features, tweets['target'], cv=5)"
   ]
  },
  {
   "cell_type": "code",
   "execution_count": 37,
   "metadata": {},
   "outputs": [
    {
     "name": "stdout",
     "output_type": "stream",
     "text": [
      "Logistic Regression \n",
      "------------------------- \n",
      "score=  0.6928913680898233\n",
      "\n",
      "Linear SVC \n",
      "------------------------- \n",
      "score= 0.7284416791818638\n",
      "\n",
      "Random Forest Classifier \n",
      "------------------------- \n",
      "score= 0.7563291139240507\n",
      "[12:19:13] WARNING: ../src/learner.cc:1061: Starting in XGBoost 1.3.0, the default evaluation metric used with the objective 'multi:softprob' was changed from 'merror' to 'mlogloss'. Explicitly set eval_metric if you'd like to restore the old behavior.\n",
      "[12:19:14] WARNING: ../src/learner.cc:1061: Starting in XGBoost 1.3.0, the default evaluation metric used with the objective 'multi:softprob' was changed from 'merror' to 'mlogloss'. Explicitly set eval_metric if you'd like to restore the old behavior.\n",
      "[12:19:15] WARNING: ../src/learner.cc:1061: Starting in XGBoost 1.3.0, the default evaluation metric used with the objective 'multi:softprob' was changed from 'merror' to 'mlogloss'. Explicitly set eval_metric if you'd like to restore the old behavior.\n",
      "[12:19:16] WARNING: ../src/learner.cc:1061: Starting in XGBoost 1.3.0, the default evaluation metric used with the objective 'multi:softprob' was changed from 'merror' to 'mlogloss'. Explicitly set eval_metric if you'd like to restore the old behavior.\n",
      "[12:19:16] WARNING: ../src/learner.cc:1061: Starting in XGBoost 1.3.0, the default evaluation metric used with the objective 'multi:softprob' was changed from 'merror' to 'mlogloss'. Explicitly set eval_metric if you'd like to restore the old behavior.\n",
      "\n",
      "Xgboost Classifier \n",
      "------------------------- \n",
      "score= 0.7216548666237574\n"
     ]
    }
   ],
   "source": [
    "# Making sure that the models are not overfitting using cross val score metric with 5 folds\n",
    "##\n",
    "print(\"Logistic Regression \\n------------------------- \\nscore= \", cross_val_score(lr, features, tweets['target'], cv=5).mean())\n",
    "print(\"\\nLinear SVC \\n------------------------- \\nscore=\", cross_val_score(svc, features, tweets['target'], cv=5).mean())\n",
    "print(\"\\nRandom Forest Classifier \\n------------------------- \\nscore=\", cross_val_score(rfc, features, tweets['target'], cv=5).mean())\n",
    "print(\"\\nXgboost Classifier \\n------------------------- \\nscore=\", cross_val_score(xgb, features, tweets['target'], cv=5).mean())"
   ]
  },
  {
   "cell_type": "code",
   "execution_count": 38,
   "metadata": {},
   "outputs": [],
   "source": [
    "# Random forest performed best\n",
    "# That's a good score having in mind that the model is attempting to predict between three category classes"
   ]
  },
  {
   "cell_type": "code",
   "execution_count": 39,
   "metadata": {},
   "outputs": [],
   "source": [
    "# saving model\n",
    "from sklearn.pipeline import Pipeline\n",
    "import pickle\n",
    "\n",
    "# retrain\n",
    "pipe = Pipeline([('vectorizer', TfidfVectorizer()), ('classifier', RandomForestClassifier(\n",
    "    bootstrap=False, class_weight=None, criterion='entropy', min_samples_split=6,\n",
    "    n_estimators=160, warm_start=False))])\n",
    "pipe.fit(tweets.text, tweets.target)\n",
    "pickle.dump(pipe, open('saved_model.pkl', 'wb'))"
   ]
  },
  {
   "cell_type": "code",
   "execution_count": 41,
   "metadata": {},
   "outputs": [],
   "source": [
    "# load model\n",
    "model = pickle.load(open('saved_model.pkl', 'rb'))"
   ]
  },
  {
   "cell_type": "code",
   "execution_count": 50,
   "metadata": {},
   "outputs": [
    {
     "data": {
      "text/plain": [
       "array([0])"
      ]
     },
     "execution_count": 50,
     "metadata": {},
     "output_type": "execute_result"
    }
   ],
   "source": [
    "model.predict([\"I don't know\"])"
   ]
  },
  {
   "cell_type": "code",
   "execution_count": 40,
   "metadata": {},
   "outputs": [
    {
     "data": {
      "text/plain": [
       "1"
      ]
     },
     "execution_count": 40,
     "metadata": {},
     "output_type": "execute_result"
    }
   ],
   "source": [
    "np.int(pipe.predict([\"I love people.\"]))"
   ]
  },
  {
   "cell_type": "code",
   "execution_count": null,
   "metadata": {},
   "outputs": [],
   "source": []
  }
 ],
 "metadata": {
  "kernelspec": {
   "display_name": "Python 3",
   "language": "python",
   "name": "python3"
  },
  "language_info": {
   "codemirror_mode": {
    "name": "ipython",
    "version": 3
   },
   "file_extension": ".py",
   "mimetype": "text/x-python",
   "name": "python",
   "nbconvert_exporter": "python",
   "pygments_lexer": "ipython3",
   "version": "3.9.1+"
  }
 },
 "nbformat": 4,
 "nbformat_minor": 4
}
