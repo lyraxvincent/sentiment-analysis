{
 "cells": [
  {
   "cell_type": "code",
   "execution_count": 25,
   "metadata": {},
   "outputs": [],
   "source": [
    "# imports\n",
    "##\n",
    "import numpy as np\n",
    "import pandas as pd\n",
    "import matplotlib.pyplot as plt\n",
    "%matplotlib inline\n",
    "import seaborn as sns\n",
    "sns.set_style(\"darkgrid\")\n",
    "\n",
    "from sklearn.model_selection import train_test_split, cross_val_score\n",
    "from sklearn.metrics import confusion_matrix, classification_report\n",
    "from sklearn.feature_extraction.text import CountVectorizer, TfidfTransformer, TfidfVectorizer\n",
    "from sklearn.linear_model import LogisticRegression, SGDClassifier\n",
    "from sklearn.svm import LinearSVC\n",
    "from sklearn.ensemble import RandomForestClassifier\n",
    "\n",
    "from scipy.sparse import coo_matrix, hstack\n",
    "\n",
    "from xgboost import XGBClassifier\n",
    "from lightgbm import LGBMClassifier\n",
    "\n",
    "import warnings\n",
    "warnings.filterwarnings(\"ignore\")\n",
    "\n",
    "import tqdm\n",
    "from tqdm import trange"
   ]
  },
  {
   "cell_type": "code",
   "execution_count": 2,
   "metadata": {},
   "outputs": [],
   "source": [
    "# Read in the data\n",
    "##\n",
    "tweets = pd.read_csv(\"csv files/ALL_DATA.csv\")"
   ]
  },
  {
   "cell_type": "code",
   "execution_count": 3,
   "metadata": {},
   "outputs": [
    {
     "data": {
      "text/html": [
       "<div>\n",
       "<style scoped>\n",
       "    .dataframe tbody tr th:only-of-type {\n",
       "        vertical-align: middle;\n",
       "    }\n",
       "\n",
       "    .dataframe tbody tr th {\n",
       "        vertical-align: top;\n",
       "    }\n",
       "\n",
       "    .dataframe thead th {\n",
       "        text-align: right;\n",
       "    }\n",
       "</style>\n",
       "<table border=\"1\" class=\"dataframe\">\n",
       "  <thead>\n",
       "    <tr style=\"text-align: right;\">\n",
       "      <th></th>\n",
       "      <th>tweet_id</th>\n",
       "      <th>text</th>\n",
       "      <th>created_at</th>\n",
       "      <th>likes</th>\n",
       "      <th>text length</th>\n",
       "      <th>polarity</th>\n",
       "    </tr>\n",
       "  </thead>\n",
       "  <tbody>\n",
       "    <tr>\n",
       "      <th>0</th>\n",
       "      <td>1419307341560745985</td>\n",
       "      <td>face bound border two The covid said hidden</td>\n",
       "      <td>2021-07-25 17:43:34 EAT</td>\n",
       "      <td>0</td>\n",
       "      <td>43</td>\n",
       "      <td>-0.166667</td>\n",
       "    </tr>\n",
       "    <tr>\n",
       "      <th>1</th>\n",
       "      <td>1419307340680114179</td>\n",
       "      <td>I seeing looking like second global going</td>\n",
       "      <td>2021-07-25 17:43:34 EAT</td>\n",
       "      <td>0</td>\n",
       "      <td>41</td>\n",
       "      <td>0.000000</td>\n",
       "    </tr>\n",
       "    <tr>\n",
       "      <th>2</th>\n",
       "      <td>1419307335982346240</td>\n",
       "      <td>sentence people intensive care</td>\n",
       "      <td>2021-07-25 17:43:33 EAT</td>\n",
       "      <td>0</td>\n",
       "      <td>30</td>\n",
       "      <td>0.000000</td>\n",
       "    </tr>\n",
       "    <tr>\n",
       "      <th>3</th>\n",
       "      <td>1419307331599339521</td>\n",
       "      <td>contagious delta variant surging across nation...</td>\n",
       "      <td>2021-07-25 17:43:31 EAT</td>\n",
       "      <td>0</td>\n",
       "      <td>98</td>\n",
       "      <td>0.000000</td>\n",
       "    </tr>\n",
       "    <tr>\n",
       "      <th>4</th>\n",
       "      <td>1419307315220475908</td>\n",
       "      <td>sentence people intensive care</td>\n",
       "      <td>2021-07-25 17:43:28 EAT</td>\n",
       "      <td>0</td>\n",
       "      <td>30</td>\n",
       "      <td>0.000000</td>\n",
       "    </tr>\n",
       "  </tbody>\n",
       "</table>\n",
       "</div>"
      ],
      "text/plain": [
       "              tweet_id                                               text  \\\n",
       "0  1419307341560745985        face bound border two The covid said hidden   \n",
       "1  1419307340680114179          I seeing looking like second global going   \n",
       "2  1419307335982346240                     sentence people intensive care   \n",
       "3  1419307331599339521  contagious delta variant surging across nation...   \n",
       "4  1419307315220475908                     sentence people intensive care   \n",
       "\n",
       "                created_at  likes  text length  polarity  \n",
       "0  2021-07-25 17:43:34 EAT      0           43 -0.166667  \n",
       "1  2021-07-25 17:43:34 EAT      0           41  0.000000  \n",
       "2  2021-07-25 17:43:33 EAT      0           30  0.000000  \n",
       "3  2021-07-25 17:43:31 EAT      0           98  0.000000  \n",
       "4  2021-07-25 17:43:28 EAT      0           30  0.000000  "
      ]
     },
     "execution_count": 3,
     "metadata": {},
     "output_type": "execute_result"
    }
   ],
   "source": [
    "# Preview data\n",
    "##\n",
    "tweets.head()"
   ]
  },
  {
   "cell_type": "code",
   "execution_count": 4,
   "metadata": {},
   "outputs": [
    {
     "data": {
      "text/html": [
       "<div>\n",
       "<style scoped>\n",
       "    .dataframe tbody tr th:only-of-type {\n",
       "        vertical-align: middle;\n",
       "    }\n",
       "\n",
       "    .dataframe tbody tr th {\n",
       "        vertical-align: top;\n",
       "    }\n",
       "\n",
       "    .dataframe thead th {\n",
       "        text-align: right;\n",
       "    }\n",
       "</style>\n",
       "<table border=\"1\" class=\"dataframe\">\n",
       "  <thead>\n",
       "    <tr style=\"text-align: right;\">\n",
       "      <th></th>\n",
       "      <th>tweet_id</th>\n",
       "      <th>text</th>\n",
       "      <th>created_at</th>\n",
       "      <th>likes</th>\n",
       "      <th>text length</th>\n",
       "      <th>polarity</th>\n",
       "    </tr>\n",
       "  </thead>\n",
       "  <tbody>\n",
       "    <tr>\n",
       "      <th>135466</th>\n",
       "      <td>1242064075405905921</td>\n",
       "      <td>emergency response team sent trace catholic pr...</td>\n",
       "      <td>2020-03-23 12:22:06</td>\n",
       "      <td>4</td>\n",
       "      <td>73</td>\n",
       "      <td>0.113636</td>\n",
       "    </tr>\n",
       "    <tr>\n",
       "      <th>135467</th>\n",
       "      <td>1242064012797530112</td>\n",
       "      <td>time put mandatory hate happening</td>\n",
       "      <td>2020-03-23 12:21:51</td>\n",
       "      <td>1</td>\n",
       "      <td>33</td>\n",
       "      <td>-0.800000</td>\n",
       "    </tr>\n",
       "    <tr>\n",
       "      <th>135468</th>\n",
       "      <td>1242063970632163329</td>\n",
       "      <td>people lose trust governing becomes face choice</td>\n",
       "      <td>2020-03-23 12:21:41</td>\n",
       "      <td>1</td>\n",
       "      <td>47</td>\n",
       "      <td>0.000000</td>\n",
       "    </tr>\n",
       "    <tr>\n",
       "      <th>135469</th>\n",
       "      <td>1242063856727396352</td>\n",
       "      <td>incompetent wont die</td>\n",
       "      <td>2020-03-23 12:21:14</td>\n",
       "      <td>2</td>\n",
       "      <td>20</td>\n",
       "      <td>-0.350000</td>\n",
       "    </tr>\n",
       "    <tr>\n",
       "      <th>135470</th>\n",
       "      <td>1242063643883307008</td>\n",
       "      <td>next corona virus strain even deadly see lippi...</td>\n",
       "      <td>2020-03-23 12:20:23</td>\n",
       "      <td>1</td>\n",
       "      <td>58</td>\n",
       "      <td>-0.100000</td>\n",
       "    </tr>\n",
       "  </tbody>\n",
       "</table>\n",
       "</div>"
      ],
      "text/plain": [
       "                   tweet_id  \\\n",
       "135466  1242064075405905921   \n",
       "135467  1242064012797530112   \n",
       "135468  1242063970632163329   \n",
       "135469  1242063856727396352   \n",
       "135470  1242063643883307008   \n",
       "\n",
       "                                                     text  \\\n",
       "135466  emergency response team sent trace catholic pr...   \n",
       "135467                  time put mandatory hate happening   \n",
       "135468    people lose trust governing becomes face choice   \n",
       "135469                               incompetent wont die   \n",
       "135470  next corona virus strain even deadly see lippi...   \n",
       "\n",
       "                 created_at  likes  text length  polarity  \n",
       "135466  2020-03-23 12:22:06      4           73  0.113636  \n",
       "135467  2020-03-23 12:21:51      1           33 -0.800000  \n",
       "135468  2020-03-23 12:21:41      1           47  0.000000  \n",
       "135469  2020-03-23 12:21:14      2           20 -0.350000  \n",
       "135470  2020-03-23 12:20:23      1           58 -0.100000  "
      ]
     },
     "execution_count": 4,
     "metadata": {},
     "output_type": "execute_result"
    }
   ],
   "source": [
    "tweets.tail()"
   ]
  },
  {
   "cell_type": "markdown",
   "metadata": {},
   "source": [
    "# EDA\n",
    "Exploring the data"
   ]
  },
  {
   "cell_type": "code",
   "execution_count": 5,
   "metadata": {},
   "outputs": [
    {
     "name": "stdout",
     "output_type": "stream",
     "text": [
      "<class 'pandas.core.frame.DataFrame'>\n",
      "RangeIndex: 135471 entries, 0 to 135470\n",
      "Data columns (total 6 columns):\n",
      " #   Column       Non-Null Count   Dtype  \n",
      "---  ------       --------------   -----  \n",
      " 0   tweet_id     135471 non-null  int64  \n",
      " 1   text         128651 non-null  object \n",
      " 2   created_at   135471 non-null  object \n",
      " 3   likes        135471 non-null  int64  \n",
      " 4   text length  135471 non-null  int64  \n",
      " 5   polarity     135471 non-null  float64\n",
      "dtypes: float64(1), int64(3), object(2)\n",
      "memory usage: 6.2+ MB\n"
     ]
    }
   ],
   "source": [
    "tweets.info()"
   ]
  },
  {
   "cell_type": "code",
   "execution_count": 6,
   "metadata": {},
   "outputs": [
    {
     "data": {
      "text/html": [
       "<div>\n",
       "<style scoped>\n",
       "    .dataframe tbody tr th:only-of-type {\n",
       "        vertical-align: middle;\n",
       "    }\n",
       "\n",
       "    .dataframe tbody tr th {\n",
       "        vertical-align: top;\n",
       "    }\n",
       "\n",
       "    .dataframe thead th {\n",
       "        text-align: right;\n",
       "    }\n",
       "</style>\n",
       "<table border=\"1\" class=\"dataframe\">\n",
       "  <thead>\n",
       "    <tr style=\"text-align: right;\">\n",
       "      <th></th>\n",
       "      <th>count</th>\n",
       "      <th>mean</th>\n",
       "      <th>std</th>\n",
       "      <th>min</th>\n",
       "      <th>25%</th>\n",
       "      <th>50%</th>\n",
       "      <th>75%</th>\n",
       "      <th>max</th>\n",
       "    </tr>\n",
       "  </thead>\n",
       "  <tbody>\n",
       "    <tr>\n",
       "      <th>tweet_id</th>\n",
       "      <td>135471.0</td>\n",
       "      <td>1.330909e+18</td>\n",
       "      <td>8.724410e+16</td>\n",
       "      <td>1.242064e+18</td>\n",
       "      <td>1.244361e+18</td>\n",
       "      <td>1.244413e+18</td>\n",
       "      <td>1.418734e+18</td>\n",
       "      <td>1.419307e+18</td>\n",
       "    </tr>\n",
       "    <tr>\n",
       "      <th>likes</th>\n",
       "      <td>135471.0</td>\n",
       "      <td>1.134798e+01</td>\n",
       "      <td>3.133414e+02</td>\n",
       "      <td>0.000000e+00</td>\n",
       "      <td>0.000000e+00</td>\n",
       "      <td>0.000000e+00</td>\n",
       "      <td>2.000000e+00</td>\n",
       "      <td>8.288600e+04</td>\n",
       "    </tr>\n",
       "    <tr>\n",
       "      <th>text length</th>\n",
       "      <td>135471.0</td>\n",
       "      <td>4.952879e+01</td>\n",
       "      <td>3.583371e+01</td>\n",
       "      <td>0.000000e+00</td>\n",
       "      <td>2.000000e+01</td>\n",
       "      <td>4.300000e+01</td>\n",
       "      <td>7.500000e+01</td>\n",
       "      <td>1.970000e+02</td>\n",
       "    </tr>\n",
       "    <tr>\n",
       "      <th>polarity</th>\n",
       "      <td>135471.0</td>\n",
       "      <td>4.811408e-02</td>\n",
       "      <td>2.300246e-01</td>\n",
       "      <td>-1.000000e+00</td>\n",
       "      <td>0.000000e+00</td>\n",
       "      <td>0.000000e+00</td>\n",
       "      <td>1.300000e-01</td>\n",
       "      <td>1.000000e+00</td>\n",
       "    </tr>\n",
       "  </tbody>\n",
       "</table>\n",
       "</div>"
      ],
      "text/plain": [
       "                count          mean           std           min           25%  \\\n",
       "tweet_id     135471.0  1.330909e+18  8.724410e+16  1.242064e+18  1.244361e+18   \n",
       "likes        135471.0  1.134798e+01  3.133414e+02  0.000000e+00  0.000000e+00   \n",
       "text length  135471.0  4.952879e+01  3.583371e+01  0.000000e+00  2.000000e+01   \n",
       "polarity     135471.0  4.811408e-02  2.300246e-01 -1.000000e+00  0.000000e+00   \n",
       "\n",
       "                      50%           75%           max  \n",
       "tweet_id     1.244413e+18  1.418734e+18  1.419307e+18  \n",
       "likes        0.000000e+00  2.000000e+00  8.288600e+04  \n",
       "text length  4.300000e+01  7.500000e+01  1.970000e+02  \n",
       "polarity     0.000000e+00  1.300000e-01  1.000000e+00  "
      ]
     },
     "execution_count": 6,
     "metadata": {},
     "output_type": "execute_result"
    }
   ],
   "source": [
    "tweets.describe().T"
   ]
  },
  {
   "cell_type": "code",
   "execution_count": 7,
   "metadata": {},
   "outputs": [
    {
     "name": "stdout",
     "output_type": "stream",
     "text": [
      "There is missing data. \n",
      "The missing data points are as follows:\n",
      " tweet_id          0\n",
      "text           6820\n",
      "created_at        0\n",
      "likes             0\n",
      "text length       0\n",
      "polarity          0\n",
      "dtype: int64\n"
     ]
    }
   ],
   "source": [
    "# Checking for missing data\n",
    "##\n",
    "if tweets.isnull().values.any() == True:\n",
    "    print(\"There is missing data. \\nThe missing data points are as follows:\\n\", tweets.isnull().sum())\n",
    "else:\n",
    "    print(\"There is no missing data points.\")"
   ]
  },
  {
   "cell_type": "code",
   "execution_count": 5,
   "metadata": {},
   "outputs": [],
   "source": [
    "# Dropping the missing data points row-wise\n",
    "##\n",
    "tweets.dropna(axis=0, inplace=True)"
   ]
  },
  {
   "cell_type": "code",
   "execution_count": 6,
   "metadata": {},
   "outputs": [],
   "source": [
    "# Reset index\n",
    "##\n",
    "tweets.reset_index(drop=True, inplace=True)"
   ]
  },
  {
   "cell_type": "code",
   "execution_count": 10,
   "metadata": {},
   "outputs": [
    {
     "data": {
      "text/plain": [
       "<AxesSubplot:xlabel='text length', ylabel='Density'>"
      ]
     },
     "execution_count": 10,
     "metadata": {},
     "output_type": "execute_result"
    },
    {
     "data": {
      "image/png": "[encoded data removed]",
      "text/plain": [
       "<Figure size 432x288 with 1 Axes>"
      ]
     },
     "metadata": {},
     "output_type": "display_data"
    }
   ],
   "source": [
    "# Distribution of text length\n",
    "##\n",
    "sns.distplot(tweets['text length'])"
   ]
  },
  {
   "cell_type": "code",
   "execution_count": 11,
   "metadata": {},
   "outputs": [
    {
     "data": {
      "text/plain": [
       "0       66652\n",
       "1       21976\n",
       "2        9692\n",
       "3        5602\n",
       "4        3802\n",
       "        ...  \n",
       "979         1\n",
       "1107        1\n",
       "1512        1\n",
       "3369        1\n",
       "831         1\n",
       "Name: likes, Length: 760, dtype: int64"
      ]
     },
     "execution_count": 11,
     "metadata": {},
     "output_type": "execute_result"
    }
   ],
   "source": [
    "# No. of unique number_of_likes and the corresponding count\n",
    "##\n",
    "tweets['likes'].value_counts()"
   ]
  },
  {
   "cell_type": "markdown",
   "metadata": {},
   "source": [
    "## Feature Engineering"
   ]
  },
  {
   "cell_type": "code",
   "execution_count": 7,
   "metadata": {},
   "outputs": [
    {
     "name": "stderr",
     "output_type": "stream",
     "text": [
      "100%|██████████| 128651/128651 [02:54<00:00, 738.54it/s] \n"
     ]
    },
    {
     "data": {
      "text/html": [
       "<div>\n",
       "<style scoped>\n",
       "    .dataframe tbody tr th:only-of-type {\n",
       "        vertical-align: middle;\n",
       "    }\n",
       "\n",
       "    .dataframe tbody tr th {\n",
       "        vertical-align: top;\n",
       "    }\n",
       "\n",
       "    .dataframe thead th {\n",
       "        text-align: right;\n",
       "    }\n",
       "</style>\n",
       "<table border=\"1\" class=\"dataframe\">\n",
       "  <thead>\n",
       "    <tr style=\"text-align: right;\">\n",
       "      <th></th>\n",
       "      <th>tweet_id</th>\n",
       "      <th>text</th>\n",
       "      <th>created_at</th>\n",
       "      <th>likes</th>\n",
       "      <th>text length</th>\n",
       "      <th>polarity</th>\n",
       "      <th>sentiment</th>\n",
       "    </tr>\n",
       "  </thead>\n",
       "  <tbody>\n",
       "    <tr>\n",
       "      <th>91686</th>\n",
       "      <td>1244367435282538496</td>\n",
       "      <td>Scott I deliver copy</td>\n",
       "      <td>2020-03-29 23:54:50 EAT</td>\n",
       "      <td>0</td>\n",
       "      <td>20</td>\n",
       "      <td>0.000000</td>\n",
       "      <td>neutral</td>\n",
       "    </tr>\n",
       "    <tr>\n",
       "      <th>31429</th>\n",
       "      <td>1418742147608629250</td>\n",
       "      <td>The federal government send extra Scott nation...</td>\n",
       "      <td>2021-07-24 04:17:41 EAT</td>\n",
       "      <td>7</td>\n",
       "      <td>79</td>\n",
       "      <td>0.045455</td>\n",
       "      <td>positive</td>\n",
       "    </tr>\n",
       "    <tr>\n",
       "      <th>127283</th>\n",
       "      <td>1242078844078751745</td>\n",
       "      <td>God need miracle thought bar informal</td>\n",
       "      <td>2020-03-23 13:20:47</td>\n",
       "      <td>1</td>\n",
       "      <td>37</td>\n",
       "      <td>0.000000</td>\n",
       "      <td>neutral</td>\n",
       "    </tr>\n",
       "    <tr>\n",
       "      <th>95574</th>\n",
       "      <td>1244361519359459329</td>\n",
       "      <td>thanks soon cant get</td>\n",
       "      <td>2020-03-29 23:31:19 EAT</td>\n",
       "      <td>0</td>\n",
       "      <td>20</td>\n",
       "      <td>0.200000</td>\n",
       "      <td>positive</td>\n",
       "    </tr>\n",
       "    <tr>\n",
       "      <th>82928</th>\n",
       "      <td>1244382966912032773</td>\n",
       "      <td>confirmed like</td>\n",
       "      <td>2020-03-30 00:56:33 EAT</td>\n",
       "      <td>0</td>\n",
       "      <td>14</td>\n",
       "      <td>0.400000</td>\n",
       "      <td>positive</td>\n",
       "    </tr>\n",
       "    <tr>\n",
       "      <th>28780</th>\n",
       "      <td>1418795337859411970</td>\n",
       "      <td>let make America I next</td>\n",
       "      <td>2021-07-24 07:49:03 EAT</td>\n",
       "      <td>0</td>\n",
       "      <td>23</td>\n",
       "      <td>0.000000</td>\n",
       "      <td>neutral</td>\n",
       "    </tr>\n",
       "    <tr>\n",
       "      <th>14240</th>\n",
       "      <td>1419048796684791819</td>\n",
       "      <td>versus vaccination need rediscover distinction</td>\n",
       "      <td>2021-07-25 00:36:12 EAT</td>\n",
       "      <td>0</td>\n",
       "      <td>46</td>\n",
       "      <td>0.000000</td>\n",
       "      <td>neutral</td>\n",
       "    </tr>\n",
       "    <tr>\n",
       "      <th>126596</th>\n",
       "      <td>1242110768176418819</td>\n",
       "      <td>pain feel sick health text call I c</td>\n",
       "      <td>2020-03-23 15:27:39</td>\n",
       "      <td>0</td>\n",
       "      <td>35</td>\n",
       "      <td>-0.714286</td>\n",
       "      <td>negative</td>\n",
       "    </tr>\n",
       "    <tr>\n",
       "      <th>91020</th>\n",
       "      <td>1244368540108349441</td>\n",
       "      <td>Anthony I deliver copy</td>\n",
       "      <td>2020-03-29 23:59:13 EAT</td>\n",
       "      <td>0</td>\n",
       "      <td>22</td>\n",
       "      <td>0.000000</td>\n",
       "      <td>neutral</td>\n",
       "    </tr>\n",
       "    <tr>\n",
       "      <th>51797</th>\n",
       "      <td>1418471363568930816</td>\n",
       "      <td>The force currently Lango subregion I privileg...</td>\n",
       "      <td>2021-07-23 10:21:41 EAT</td>\n",
       "      <td>146</td>\n",
       "      <td>103</td>\n",
       "      <td>0.000000</td>\n",
       "      <td>neutral</td>\n",
       "    </tr>\n",
       "    <tr>\n",
       "      <th>63366</th>\n",
       "      <td>1418299501329190914</td>\n",
       "      <td>Scott win</td>\n",
       "      <td>2021-07-22 22:58:46 EAT</td>\n",
       "      <td>0</td>\n",
       "      <td>9</td>\n",
       "      <td>0.800000</td>\n",
       "      <td>positive</td>\n",
       "    </tr>\n",
       "    <tr>\n",
       "      <th>12665</th>\n",
       "      <td>1419079800056991744</td>\n",
       "      <td>I agree No born yet No time study No proof wor...</td>\n",
       "      <td>2021-07-25 02:39:24 EAT</td>\n",
       "      <td>3</td>\n",
       "      <td>106</td>\n",
       "      <td>-0.075000</td>\n",
       "      <td>negative</td>\n",
       "    </tr>\n",
       "    <tr>\n",
       "      <th>47469</th>\n",
       "      <td>1418528501582516227</td>\n",
       "      <td>right know keeping accurate C time week I slov...</td>\n",
       "      <td>2021-07-23 14:08:44 EAT</td>\n",
       "      <td>1</td>\n",
       "      <td>84</td>\n",
       "      <td>0.342857</td>\n",
       "      <td>positive</td>\n",
       "    </tr>\n",
       "    <tr>\n",
       "      <th>31133</th>\n",
       "      <td>1418747552334188547</td>\n",
       "      <td>know test bulk billed pop cost almost</td>\n",
       "      <td>2021-07-24 04:39:10 EAT</td>\n",
       "      <td>0</td>\n",
       "      <td>37</td>\n",
       "      <td>0.000000</td>\n",
       "      <td>neutral</td>\n",
       "    </tr>\n",
       "    <tr>\n",
       "      <th>44338</th>\n",
       "      <td>1418561294328864777</td>\n",
       "      <td>today week ago old A lot today still far back ...</td>\n",
       "      <td>2021-07-23 16:19:02 EAT</td>\n",
       "      <td>101</td>\n",
       "      <td>53</td>\n",
       "      <td>0.066667</td>\n",
       "      <td>positive</td>\n",
       "    </tr>\n",
       "  </tbody>\n",
       "</table>\n",
       "</div>"
      ],
      "text/plain": [
       "                   tweet_id  \\\n",
       "91686   1244367435282538496   \n",
       "31429   1418742147608629250   \n",
       "127283  1242078844078751745   \n",
       "95574   1244361519359459329   \n",
       "82928   1244382966912032773   \n",
       "28780   1418795337859411970   \n",
       "14240   1419048796684791819   \n",
       "126596  1242110768176418819   \n",
       "91020   1244368540108349441   \n",
       "51797   1418471363568930816   \n",
       "63366   1418299501329190914   \n",
       "12665   1419079800056991744   \n",
       "47469   1418528501582516227   \n",
       "31133   1418747552334188547   \n",
       "44338   1418561294328864777   \n",
       "\n",
       "                                                     text  \\\n",
       "91686                                Scott I deliver copy   \n",
       "31429   The federal government send extra Scott nation...   \n",
       "127283              God need miracle thought bar informal   \n",
       "95574                                thanks soon cant get   \n",
       "82928                                      confirmed like   \n",
       "28780                             let make America I next   \n",
       "14240      versus vaccination need rediscover distinction   \n",
       "126596                pain feel sick health text call I c   \n",
       "91020                              Anthony I deliver copy   \n",
       "51797   The force currently Lango subregion I privileg...   \n",
       "63366                                           Scott win   \n",
       "12665   I agree No born yet No time study No proof wor...   \n",
       "47469   right know keeping accurate C time week I slov...   \n",
       "31133               know test bulk billed pop cost almost   \n",
       "44338   today week ago old A lot today still far back ...   \n",
       "\n",
       "                     created_at  likes  text length  polarity sentiment  \n",
       "91686   2020-03-29 23:54:50 EAT      0           20  0.000000   neutral  \n",
       "31429   2021-07-24 04:17:41 EAT      7           79  0.045455  positive  \n",
       "127283      2020-03-23 13:20:47      1           37  0.000000   neutral  \n",
       "95574   2020-03-29 23:31:19 EAT      0           20  0.200000  positive  \n",
       "82928   2020-03-30 00:56:33 EAT      0           14  0.400000  positive  \n",
       "28780   2021-07-24 07:49:03 EAT      0           23  0.000000   neutral  \n",
       "14240   2021-07-25 00:36:12 EAT      0           46  0.000000   neutral  \n",
       "126596      2020-03-23 15:27:39      0           35 -0.714286  negative  \n",
       "91020   2020-03-29 23:59:13 EAT      0           22  0.000000   neutral  \n",
       "51797   2021-07-23 10:21:41 EAT    146          103  0.000000   neutral  \n",
       "63366   2021-07-22 22:58:46 EAT      0            9  0.800000  positive  \n",
       "12665   2021-07-25 02:39:24 EAT      3          106 -0.075000  negative  \n",
       "47469   2021-07-23 14:08:44 EAT      1           84  0.342857  positive  \n",
       "31133   2021-07-24 04:39:10 EAT      0           37  0.000000   neutral  \n",
       "44338   2021-07-23 16:19:02 EAT    101           53  0.066667  positive  "
      ]
     },
     "execution_count": 7,
     "metadata": {},
     "output_type": "execute_result"
    }
   ],
   "source": [
    "# Let's classify sentiment as negative, neutral or positive\n",
    "##\n",
    "tweets['sentiment'] = np.nan\n",
    "\n",
    "for i in trange(len(tweets)):\n",
    "    if tweets['polarity'][i] < 0:\n",
    "        tweets['sentiment'][i] = 'negative'\n",
    "    elif tweets['polarity'][i] == 0:\n",
    "        tweets['sentiment'][i] = 'neutral'\n",
    "    else:\n",
    "        tweets['sentiment'][i] = 'positive'\n",
    "\n",
    "# Preview tweets\n",
    "tweets.sample(15)"
   ]
  },
  {
   "cell_type": "code",
   "execution_count": 8,
   "metadata": {},
   "outputs": [
    {
     "data": {
      "text/html": [
       "<div>\n",
       "<style scoped>\n",
       "    .dataframe tbody tr th:only-of-type {\n",
       "        vertical-align: middle;\n",
       "    }\n",
       "\n",
       "    .dataframe tbody tr th {\n",
       "        vertical-align: top;\n",
       "    }\n",
       "\n",
       "    .dataframe thead th {\n",
       "        text-align: right;\n",
       "    }\n",
       "</style>\n",
       "<table border=\"1\" class=\"dataframe\">\n",
       "  <thead>\n",
       "    <tr style=\"text-align: right;\">\n",
       "      <th></th>\n",
       "      <th>tweet_id</th>\n",
       "      <th>text</th>\n",
       "      <th>created_at</th>\n",
       "      <th>likes</th>\n",
       "      <th>text length</th>\n",
       "      <th>polarity</th>\n",
       "      <th>sentiment</th>\n",
       "      <th>target</th>\n",
       "    </tr>\n",
       "  </thead>\n",
       "  <tbody>\n",
       "    <tr>\n",
       "      <th>51309</th>\n",
       "      <td>1418478309113942019</td>\n",
       "      <td>plea order complete ban sale use pandemic poor</td>\n",
       "      <td>2021-07-23 10:49:17 EAT</td>\n",
       "      <td>0</td>\n",
       "      <td>46</td>\n",
       "      <td>-0.150000</td>\n",
       "      <td>negative</td>\n",
       "      <td>-1</td>\n",
       "    </tr>\n",
       "    <tr>\n",
       "      <th>24793</th>\n",
       "      <td>1418873099928358922</td>\n",
       "      <td>everywhere</td>\n",
       "      <td>2021-07-24 12:58:03 EAT</td>\n",
       "      <td>2</td>\n",
       "      <td>10</td>\n",
       "      <td>0.000000</td>\n",
       "      <td>neutral</td>\n",
       "      <td>0</td>\n",
       "    </tr>\n",
       "    <tr>\n",
       "      <th>42981</th>\n",
       "      <td>1418571974473814018</td>\n",
       "      <td>new</td>\n",
       "      <td>2021-07-23 17:01:29 EAT</td>\n",
       "      <td>0</td>\n",
       "      <td>3</td>\n",
       "      <td>0.136364</td>\n",
       "      <td>positive</td>\n",
       "      <td>1</td>\n",
       "    </tr>\n",
       "    <tr>\n",
       "      <th>60897</th>\n",
       "      <td>1418336626296692736</td>\n",
       "      <td>sorry hear friend coping heat mum way glad str...</td>\n",
       "      <td>2021-07-23 01:26:17 EAT</td>\n",
       "      <td>5</td>\n",
       "      <td>73</td>\n",
       "      <td>-0.133333</td>\n",
       "      <td>negative</td>\n",
       "      <td>-1</td>\n",
       "    </tr>\n",
       "    <tr>\n",
       "      <th>6659</th>\n",
       "      <td>1419213469983776773</td>\n",
       "      <td>India landmark vaccine last</td>\n",
       "      <td>2021-07-25 11:30:33 EAT</td>\n",
       "      <td>1</td>\n",
       "      <td>27</td>\n",
       "      <td>0.000000</td>\n",
       "      <td>neutral</td>\n",
       "      <td>0</td>\n",
       "    </tr>\n",
       "    <tr>\n",
       "      <th>112577</th>\n",
       "      <td>1244334832789921796</td>\n",
       "      <td>data A fatality rate</td>\n",
       "      <td>2020-03-29 21:45:17 EAT</td>\n",
       "      <td>3</td>\n",
       "      <td>20</td>\n",
       "      <td>0.000000</td>\n",
       "      <td>neutral</td>\n",
       "      <td>0</td>\n",
       "    </tr>\n",
       "    <tr>\n",
       "      <th>77265</th>\n",
       "      <td>1244389851333570562</td>\n",
       "      <td>thousand people still waiting test back done k...</td>\n",
       "      <td>2020-03-30 01:23:54 EAT</td>\n",
       "      <td>6</td>\n",
       "      <td>121</td>\n",
       "      <td>-0.166667</td>\n",
       "      <td>negative</td>\n",
       "      <td>-1</td>\n",
       "    </tr>\n",
       "    <tr>\n",
       "      <th>114930</th>\n",
       "      <td>1244331355808251904</td>\n",
       "      <td>seriously look hand behind outbreak Christian ...</td>\n",
       "      <td>2020-03-29 21:31:28 EAT</td>\n",
       "      <td>0</td>\n",
       "      <td>56</td>\n",
       "      <td>-0.244444</td>\n",
       "      <td>negative</td>\n",
       "      <td>-1</td>\n",
       "    </tr>\n",
       "    <tr>\n",
       "      <th>95271</th>\n",
       "      <td>1244361917390393344</td>\n",
       "      <td>Sunday Art</td>\n",
       "      <td>2020-03-29 23:32:54 EAT</td>\n",
       "      <td>1</td>\n",
       "      <td>10</td>\n",
       "      <td>0.000000</td>\n",
       "      <td>neutral</td>\n",
       "      <td>0</td>\n",
       "    </tr>\n",
       "    <tr>\n",
       "      <th>127770</th>\n",
       "      <td>1242109238673096706</td>\n",
       "      <td>brain make final time</td>\n",
       "      <td>2020-03-23 15:21:34</td>\n",
       "      <td>1</td>\n",
       "      <td>21</td>\n",
       "      <td>0.000000</td>\n",
       "      <td>neutral</td>\n",
       "      <td>0</td>\n",
       "    </tr>\n",
       "    <tr>\n",
       "      <th>114586</th>\n",
       "      <td>1244331868021035010</td>\n",
       "      <td>making speech camera frame camera two see one ...</td>\n",
       "      <td>2020-03-29 21:33:30 EAT</td>\n",
       "      <td>0</td>\n",
       "      <td>73</td>\n",
       "      <td>0.000000</td>\n",
       "      <td>neutral</td>\n",
       "      <td>0</td>\n",
       "    </tr>\n",
       "    <tr>\n",
       "      <th>82133</th>\n",
       "      <td>1244383991706185728</td>\n",
       "      <td>effect people work</td>\n",
       "      <td>2020-03-30 01:00:37 EAT</td>\n",
       "      <td>12</td>\n",
       "      <td>18</td>\n",
       "      <td>0.000000</td>\n",
       "      <td>neutral</td>\n",
       "      <td>0</td>\n",
       "    </tr>\n",
       "    <tr>\n",
       "      <th>117997</th>\n",
       "      <td>1244327083779768321</td>\n",
       "      <td>sneeze multiple time broadcast Boris extremely...</td>\n",
       "      <td>2020-03-29 21:14:29 EAT</td>\n",
       "      <td>0</td>\n",
       "      <td>78</td>\n",
       "      <td>0.000000</td>\n",
       "      <td>neutral</td>\n",
       "      <td>0</td>\n",
       "    </tr>\n",
       "    <tr>\n",
       "      <th>67157</th>\n",
       "      <td>1244404912961859588</td>\n",
       "      <td>tweet concerned ego today talking</td>\n",
       "      <td>2020-03-30 02:23:45 EAT</td>\n",
       "      <td>4</td>\n",
       "      <td>33</td>\n",
       "      <td>0.000000</td>\n",
       "      <td>neutral</td>\n",
       "      <td>0</td>\n",
       "    </tr>\n",
       "    <tr>\n",
       "      <th>93340</th>\n",
       "      <td>1244364919123804162</td>\n",
       "      <td>I deliver copy</td>\n",
       "      <td>2020-03-29 23:44:50 EAT</td>\n",
       "      <td>0</td>\n",
       "      <td>14</td>\n",
       "      <td>0.000000</td>\n",
       "      <td>neutral</td>\n",
       "      <td>0</td>\n",
       "    </tr>\n",
       "  </tbody>\n",
       "</table>\n",
       "</div>"
      ],
      "text/plain": [
       "                   tweet_id  \\\n",
       "51309   1418478309113942019   \n",
       "24793   1418873099928358922   \n",
       "42981   1418571974473814018   \n",
       "60897   1418336626296692736   \n",
       "6659    1419213469983776773   \n",
       "112577  1244334832789921796   \n",
       "77265   1244389851333570562   \n",
       "114930  1244331355808251904   \n",
       "95271   1244361917390393344   \n",
       "127770  1242109238673096706   \n",
       "114586  1244331868021035010   \n",
       "82133   1244383991706185728   \n",
       "117997  1244327083779768321   \n",
       "67157   1244404912961859588   \n",
       "93340   1244364919123804162   \n",
       "\n",
       "                                                     text  \\\n",
       "51309      plea order complete ban sale use pandemic poor   \n",
       "24793                                          everywhere   \n",
       "42981                                                 new   \n",
       "60897   sorry hear friend coping heat mum way glad str...   \n",
       "6659                          India landmark vaccine last   \n",
       "112577                               data A fatality rate   \n",
       "77265   thousand people still waiting test back done k...   \n",
       "114930  seriously look hand behind outbreak Christian ...   \n",
       "95271                                          Sunday Art   \n",
       "127770                              brain make final time   \n",
       "114586  making speech camera frame camera two see one ...   \n",
       "82133                                  effect people work   \n",
       "117997  sneeze multiple time broadcast Boris extremely...   \n",
       "67157                   tweet concerned ego today talking   \n",
       "93340                                      I deliver copy   \n",
       "\n",
       "                     created_at  likes  text length  polarity sentiment  \\\n",
       "51309   2021-07-23 10:49:17 EAT      0           46 -0.150000  negative   \n",
       "24793   2021-07-24 12:58:03 EAT      2           10  0.000000   neutral   \n",
       "42981   2021-07-23 17:01:29 EAT      0            3  0.136364  positive   \n",
       "60897   2021-07-23 01:26:17 EAT      5           73 -0.133333  negative   \n",
       "6659    2021-07-25 11:30:33 EAT      1           27  0.000000   neutral   \n",
       "112577  2020-03-29 21:45:17 EAT      3           20  0.000000   neutral   \n",
       "77265   2020-03-30 01:23:54 EAT      6          121 -0.166667  negative   \n",
       "114930  2020-03-29 21:31:28 EAT      0           56 -0.244444  negative   \n",
       "95271   2020-03-29 23:32:54 EAT      1           10  0.000000   neutral   \n",
       "127770      2020-03-23 15:21:34      1           21  0.000000   neutral   \n",
       "114586  2020-03-29 21:33:30 EAT      0           73  0.000000   neutral   \n",
       "82133   2020-03-30 01:00:37 EAT     12           18  0.000000   neutral   \n",
       "117997  2020-03-29 21:14:29 EAT      0           78  0.000000   neutral   \n",
       "67157   2020-03-30 02:23:45 EAT      4           33  0.000000   neutral   \n",
       "93340   2020-03-29 23:44:50 EAT      0           14  0.000000   neutral   \n",
       "\n",
       "        target  \n",
       "51309       -1  \n",
       "24793        0  \n",
       "42981        1  \n",
       "60897       -1  \n",
       "6659         0  \n",
       "112577       0  \n",
       "77265       -1  \n",
       "114930      -1  \n",
       "95271        0  \n",
       "127770       0  \n",
       "114586       0  \n",
       "82133        0  \n",
       "117997       0  \n",
       "67157        0  \n",
       "93340        0  "
      ]
     },
     "execution_count": 8,
     "metadata": {},
     "output_type": "execute_result"
    }
   ],
   "source": [
    "# Creating the target variable based off of the sentiment column\n",
    "##\n",
    "mapper = {\n",
    "    'negative': -1,\n",
    "    'neutral': 0,\n",
    "    'positive': 1\n",
    "}\n",
    "\n",
    "tweets['target'] = tweets['sentiment'].map(mapper)\n",
    "\n",
    "# Preview\n",
    "tweets.sample(15)"
   ]
  },
  {
   "cell_type": "code",
   "execution_count": 9,
   "metadata": {},
   "outputs": [],
   "source": [
    "# Create another feature wordcount and compare its distribution with that of text length\n",
    "# to see which best fits as a feature to be used in the model\n",
    "##\n",
    "tweets['word count'] = tweets['text'].apply(lambda text: len(text.split()))"
   ]
  },
  {
   "cell_type": "code",
   "execution_count": 16,
   "metadata": {},
   "outputs": [
    {
     "data": {
      "image/png": "[encoded data removed]",
      "text/plain": [
       "<Figure size 720x288 with 2 Axes>"
      ]
     },
     "metadata": {},
     "output_type": "display_data"
    }
   ],
   "source": [
    "# Comparing the two distributions\n",
    "##\n",
    "fig, axes = plt.subplots(ncols=2, figsize=(10,4))\n",
    "\n",
    "sns.distplot(tweets['text length'], ax=axes[0])\n",
    "axes[0].set_title(\"Distribution of text length\")\n",
    "\n",
    "sns.distplot(tweets['word count'], ax=axes[1])\n",
    "axes[1].set_title(\"Distribution of word count\")\n",
    "\n",
    "plt.tight_layout()"
   ]
  },
  {
   "cell_type": "markdown",
   "metadata": {},
   "source": [
    "Seems that the two distributions have an identical pattern  \n",
    "We'll use both features in the model building phase"
   ]
  },
  {
   "cell_type": "code",
   "execution_count": 13,
   "metadata": {},
   "outputs": [
    {
     "data": {
      "text/html": [
       "<div>\n",
       "<style scoped>\n",
       "    .dataframe tbody tr th:only-of-type {\n",
       "        vertical-align: middle;\n",
       "    }\n",
       "\n",
       "    .dataframe tbody tr th {\n",
       "        vertical-align: top;\n",
       "    }\n",
       "\n",
       "    .dataframe thead th {\n",
       "        text-align: right;\n",
       "    }\n",
       "</style>\n",
       "<table border=\"1\" class=\"dataframe\">\n",
       "  <thead>\n",
       "    <tr style=\"text-align: right;\">\n",
       "      <th></th>\n",
       "      <th>tweet_id</th>\n",
       "      <th>text</th>\n",
       "      <th>created_at</th>\n",
       "      <th>likes</th>\n",
       "      <th>text length</th>\n",
       "      <th>polarity</th>\n",
       "      <th>sentiment</th>\n",
       "      <th>target</th>\n",
       "      <th>word count</th>\n",
       "    </tr>\n",
       "  </thead>\n",
       "  <tbody>\n",
       "    <tr>\n",
       "      <th>0</th>\n",
       "      <td>1419307341560745985</td>\n",
       "      <td>face bound border two The covid said hidden</td>\n",
       "      <td>2021-07-25 17:43:34 EAT</td>\n",
       "      <td>0</td>\n",
       "      <td>43</td>\n",
       "      <td>-0.166667</td>\n",
       "      <td>negative</td>\n",
       "      <td>-1</td>\n",
       "      <td>8</td>\n",
       "    </tr>\n",
       "    <tr>\n",
       "      <th>1</th>\n",
       "      <td>1419307340680114179</td>\n",
       "      <td>I seeing looking like second global going</td>\n",
       "      <td>2021-07-25 17:43:34 EAT</td>\n",
       "      <td>0</td>\n",
       "      <td>41</td>\n",
       "      <td>0.000000</td>\n",
       "      <td>neutral</td>\n",
       "      <td>0</td>\n",
       "      <td>7</td>\n",
       "    </tr>\n",
       "    <tr>\n",
       "      <th>2</th>\n",
       "      <td>1419307335982346240</td>\n",
       "      <td>sentence people intensive care</td>\n",
       "      <td>2021-07-25 17:43:33 EAT</td>\n",
       "      <td>0</td>\n",
       "      <td>30</td>\n",
       "      <td>0.000000</td>\n",
       "      <td>neutral</td>\n",
       "      <td>0</td>\n",
       "      <td>4</td>\n",
       "    </tr>\n",
       "    <tr>\n",
       "      <th>3</th>\n",
       "      <td>1419307331599339521</td>\n",
       "      <td>contagious delta variant surging across nation...</td>\n",
       "      <td>2021-07-25 17:43:31 EAT</td>\n",
       "      <td>0</td>\n",
       "      <td>98</td>\n",
       "      <td>0.000000</td>\n",
       "      <td>neutral</td>\n",
       "      <td>0</td>\n",
       "      <td>12</td>\n",
       "    </tr>\n",
       "    <tr>\n",
       "      <th>4</th>\n",
       "      <td>1419307315220475908</td>\n",
       "      <td>sentence people intensive care</td>\n",
       "      <td>2021-07-25 17:43:28 EAT</td>\n",
       "      <td>0</td>\n",
       "      <td>30</td>\n",
       "      <td>0.000000</td>\n",
       "      <td>neutral</td>\n",
       "      <td>0</td>\n",
       "      <td>4</td>\n",
       "    </tr>\n",
       "  </tbody>\n",
       "</table>\n",
       "</div>"
      ],
      "text/plain": [
       "              tweet_id                                               text  \\\n",
       "0  1419307341560745985        face bound border two The covid said hidden   \n",
       "1  1419307340680114179          I seeing looking like second global going   \n",
       "2  1419307335982346240                     sentence people intensive care   \n",
       "3  1419307331599339521  contagious delta variant surging across nation...   \n",
       "4  1419307315220475908                     sentence people intensive care   \n",
       "\n",
       "                created_at  likes  text length  polarity sentiment  target  \\\n",
       "0  2021-07-25 17:43:34 EAT      0           43 -0.166667  negative      -1   \n",
       "1  2021-07-25 17:43:34 EAT      0           41  0.000000   neutral       0   \n",
       "2  2021-07-25 17:43:33 EAT      0           30  0.000000   neutral       0   \n",
       "3  2021-07-25 17:43:31 EAT      0           98  0.000000   neutral       0   \n",
       "4  2021-07-25 17:43:28 EAT      0           30  0.000000   neutral       0   \n",
       "\n",
       "   word count  \n",
       "0           8  \n",
       "1           7  \n",
       "2           4  \n",
       "3          12  \n",
       "4           4  "
      ]
     },
     "execution_count": 13,
     "metadata": {},
     "output_type": "execute_result"
    }
   ],
   "source": [
    "tweets.head()"
   ]
  },
  {
   "cell_type": "markdown",
   "metadata": {},
   "source": [
    "## Model Building"
   ]
  },
  {
   "cell_type": "code",
   "execution_count": 10,
   "metadata": {},
   "outputs": [],
   "source": [
    "from nltk.corpus import stopwords\n",
    "stop = stopwords.words('english')"
   ]
  },
  {
   "cell_type": "code",
   "execution_count": 11,
   "metadata": {},
   "outputs": [
    {
     "data": {
      "text/plain": [
       "CountVectorizer(stop_words=['i', 'me', 'my', 'myself', 'we', 'our', 'ours',\n",
       "                            'ourselves', 'you', \"you're\", \"you've\", \"you'll\",\n",
       "                            \"you'd\", 'your', 'yours', 'yourself', 'yourselves',\n",
       "                            'he', 'him', 'his', 'himself', 'she', \"she's\",\n",
       "                            'her', 'hers', 'herself', 'it', \"it's\", 'its',\n",
       "                            'itself', ...])"
      ]
     },
     "execution_count": 11,
     "metadata": {},
     "output_type": "execute_result"
    }
   ],
   "source": [
    "# BOW (bag of words)\n",
    "##\n",
    "cv = CountVectorizer(analyzer='word', stop_words=stop)\n",
    "\n",
    "cv.fit(tweets['text'])"
   ]
  },
  {
   "cell_type": "code",
   "execution_count": 25,
   "metadata": {},
   "outputs": [
    {
     "name": "stdout",
     "output_type": "stream",
     "text": [
      "18915\n"
     ]
    }
   ],
   "source": [
    "# Preview vocabulary and the number of vocab words\n",
    "##\n",
    "print(len(cv.vocabulary_))"
   ]
  },
  {
   "cell_type": "code",
   "execution_count": 26,
   "metadata": {},
   "outputs": [
    {
     "data": {
      "text/plain": [
       "['face',\n",
       " 'bound',\n",
       " 'border',\n",
       " 'two',\n",
       " 'covid',\n",
       " 'said',\n",
       " 'hidden',\n",
       " 'seeing',\n",
       " 'looking',\n",
       " 'like']"
      ]
     },
     "execution_count": 26,
     "metadata": {},
     "output_type": "execute_result"
    }
   ],
   "source": [
    "list(cv.vocabulary_)[:10]"
   ]
  },
  {
   "cell_type": "code",
   "execution_count": 27,
   "metadata": {},
   "outputs": [
    {
     "name": "stdout",
     "output_type": "stream",
     "text": [
      "  (0, 1889)\t1\n",
      "  (0, 1926)\t1\n",
      "  (0, 3673)\t1\n",
      "  (0, 5910)\t1\n",
      "  (0, 7589)\t1\n",
      "  (0, 14324)\t1\n",
      "  (0, 17355)\t1\n"
     ]
    }
   ],
   "source": [
    "# Example transforming a single text\n",
    "##\n",
    "print(cv.transform([tweets['text'][0]]))"
   ]
  },
  {
   "cell_type": "code",
   "execution_count": 28,
   "metadata": {},
   "outputs": [
    {
     "data": {
      "text/plain": [
       "'helpless'"
      ]
     },
     "execution_count": 28,
     "metadata": {},
     "output_type": "execute_result"
    }
   ],
   "source": [
    "# Example getting the feature name by index\n",
    "##\n",
    "cv.get_feature_names()[7523]"
   ]
  },
  {
   "cell_type": "code",
   "execution_count": 12,
   "metadata": {},
   "outputs": [],
   "source": [
    "# Transforming the whole BOW to a sparse matrix\n",
    "##\n",
    "bow_text = cv.transform(tweets['text'])"
   ]
  },
  {
   "cell_type": "code",
   "execution_count": 30,
   "metadata": {},
   "outputs": [
    {
     "data": {
      "text/plain": [
       "935370"
      ]
     },
     "execution_count": 30,
     "metadata": {},
     "output_type": "execute_result"
    }
   ],
   "source": [
    "# Non-zero occurrences\n",
    "##\n",
    "bow_text.nnz"
   ]
  },
  {
   "cell_type": "code",
   "execution_count": 13,
   "metadata": {},
   "outputs": [
    {
     "data": {
      "text/plain": [
       "TfidfTransformer()"
      ]
     },
     "execution_count": 13,
     "metadata": {},
     "output_type": "execute_result"
    }
   ],
   "source": [
    "# tfidf weighting\n",
    "##\n",
    "tfidf_transformer = TfidfTransformer()\n",
    "\n",
    "tfidf_transformer.fit(bow_text)"
   ]
  },
  {
   "cell_type": "code",
   "execution_count": 32,
   "metadata": {},
   "outputs": [
    {
     "name": "stdout",
     "output_type": "stream",
     "text": [
      "  (0, 17355)\t0.36382217854753895\n",
      "  (0, 14324)\t0.33536544967797327\n",
      "  (0, 7589)\t0.4312292397319281\n",
      "  (0, 5910)\t0.3748466201388867\n",
      "  (0, 3673)\t0.2626363014015341\n",
      "  (0, 1926)\t0.4334212820075949\n",
      "  (0, 1889)\t0.4145635743995186\n"
     ]
    }
   ],
   "source": [
    "# Example transforming a single bow\n",
    "##\n",
    "print(tfidf_transformer.transform(cv.transform([tweets['text'][0]])))"
   ]
  },
  {
   "cell_type": "code",
   "execution_count": 33,
   "metadata": {},
   "outputs": [
    {
     "data": {
      "text/plain": [
       "5.147106787035735"
      ]
     },
     "execution_count": 33,
     "metadata": {},
     "output_type": "execute_result"
    }
   ],
   "source": [
    "# Example getting idf weight of a word\n",
    "##\n",
    "tfidf_transformer.idf_[cv.vocabulary_['good']]"
   ]
  },
  {
   "cell_type": "code",
   "execution_count": 14,
   "metadata": {},
   "outputs": [],
   "source": [
    "# Transforming the whole sparse matrix\n",
    "##\n",
    "tfidf_text = tfidf_transformer.transform(bow_text)"
   ]
  },
  {
   "cell_type": "markdown",
   "metadata": {},
   "source": [
    "Adding 'text length' and 'word count' as features to the model  \n",
    "We'll stack the features to the sparse matrix horizontally"
   ]
  },
  {
   "cell_type": "code",
   "execution_count": 31,
   "metadata": {},
   "outputs": [
    {
     "data": {
      "text/plain": [
       "'# Transforming the two columns into sparse matrices\\n##\\ntxt_length = coo_matrix(tweets[\\'text length\\']).reshape(1182,1)\\nwrd_cnt = coo_matrix(tweets[\\'word count\\']).reshape(1182,1)\\n\\nfeatures = hstack([tfidf_text, txt_length, wrd_cnt])\\n\\n# Preview difference in shapes\\nprint(\"Shape of text column sparse matrix: \", tfidf_text.shape)\\nprint(\"Shape of concatenated features sparse matrix: \", features.shape)'"
      ]
     },
     "execution_count": 31,
     "metadata": {},
     "output_type": "execute_result"
    }
   ],
   "source": [
    "\"\"\"# Transforming the two columns into sparse matrices\n",
    "##\n",
    "txt_length = coo_matrix(tweets['text length']).reshape(1182,1)\n",
    "wrd_cnt = coo_matrix(tweets['word count']).reshape(1182,1)\n",
    "\n",
    "features = hstack([tfidf_text, txt_length, wrd_cnt])\n",
    "\n",
    "# Preview difference in shapes\n",
    "print(\"Shape of text column sparse matrix: \", tfidf_text.shape)\n",
    "print(\"Shape of concatenated features sparse matrix: \", features.shape)\"\"\""
   ]
  },
  {
   "cell_type": "code",
   "execution_count": 15,
   "metadata": {},
   "outputs": [],
   "source": [
    "features = tfidf_text"
   ]
  },
  {
   "cell_type": "markdown",
   "metadata": {},
   "source": [
    "## Comparing different classification models:  \n",
    "- Logistic Regression\n",
    "- Linear SVC (svm)\n",
    "- SGD Classifier\n",
    "- Random Forest Classifier\n",
    "- Xgboost Classifier\n",
    "- LGBM Classifier"
   ]
  },
  {
   "cell_type": "code",
   "execution_count": 16,
   "metadata": {},
   "outputs": [],
   "source": [
    "# Splitting data into train and test splits\n",
    "##\n",
    "X_train, X_test, y_train, y_test = train_test_split(features, tweets['target'], test_size=0.2)"
   ]
  },
  {
   "cell_type": "code",
   "execution_count": 17,
   "metadata": {},
   "outputs": [],
   "source": [
    "# Initialize models\n",
    "##\n",
    "lr = LogisticRegression(C=2.0, class_weight=None, dual=False, max_iter=100)\n",
    "\n",
    "svc = LinearSVC(C=2.0, class_weight=None, dual=False, max_iter=100)\n",
    "\n",
    "sgd = SGDClassifier()\n",
    "\n",
    "rfc = RandomForestClassifier(bootstrap=False, class_weight=None, \n",
    "                             criterion='entropy', min_samples_split=6, n_estimators=160, warm_start=False)\n",
    "\n",
    "xgb = XGBClassifier(objective='multi:softmax', num_class=3)\n",
    "\n",
    "lgbm = LGBMClassifier(objective='multiclass')"
   ]
  },
  {
   "cell_type": "code",
   "execution_count": null,
   "metadata": {},
   "outputs": [],
   "source": [
    "# Train models\n",
    "##\n",
    "lr.fit(X_train, y_train)\n",
    "\n",
    "svc.fit(X_train, y_train)\n",
    "\n",
    "sgd.fit(X_train, y_train)\n",
    "\n",
    "rfc.fit(X_train, y_train)\n",
    "\n",
    "xgb.fit(X_train,y_train)\n",
    "\n",
    "lgbm.fit(X_train, y_train)"
   ]
  },
  {
   "cell_type": "code",
   "execution_count": 27,
   "metadata": {},
   "outputs": [],
   "source": [
    "# Make predictions\n",
    "##\n",
    "lr_pred = lr.predict(X_test)\n",
    "\n",
    "svc_pred = svc.predict(X_test)\n",
    "\n",
    "sgd_pred = sgd.predict(X_test)\n",
    "\n",
    "rfc_pred = rfc.predict(X_test)\n",
    "\n",
    "xgb_pred = xgb.predict(X_test)\n",
    "\n",
    "lgbm_pred = lgbm.predict(X_test)"
   ]
  },
  {
   "cell_type": "code",
   "execution_count": 28,
   "metadata": {},
   "outputs": [
    {
     "name": "stdout",
     "output_type": "stream",
     "text": [
      "Logistic Regression \n",
      "----------------------------------\n",
      "[[ 4211   307   297]\n",
      " [   40 11296    75]\n",
      " [  183   318  9004]]\n",
      "              precision    recall  f1-score   support\n",
      "\n",
      "          -1       0.95      0.87      0.91      4815\n",
      "           0       0.95      0.99      0.97     11411\n",
      "           1       0.96      0.95      0.95      9505\n",
      "\n",
      "    accuracy                           0.95     25731\n",
      "   macro avg       0.95      0.94      0.94     25731\n",
      "weighted avg       0.95      0.95      0.95     25731\n",
      "\n",
      "Linear SVC \n",
      "---------------------------------\n",
      "[[ 4489   109   217]\n",
      " [   53 11289    69]\n",
      " [  154   109  9242]]\n",
      "              precision    recall  f1-score   support\n",
      "\n",
      "          -1       0.96      0.93      0.94      4815\n",
      "           0       0.98      0.99      0.99     11411\n",
      "           1       0.97      0.97      0.97      9505\n",
      "\n",
      "    accuracy                           0.97     25731\n",
      "   macro avg       0.97      0.96      0.97     25731\n",
      "weighted avg       0.97      0.97      0.97     25731\n",
      "\n",
      "SGD \n",
      "---------------------------------\n",
      "[[ 3304  1039   472]\n",
      " [   22 11308    81]\n",
      " [  220  1144  8141]]\n",
      "              precision    recall  f1-score   support\n",
      "\n",
      "          -1       0.93      0.69      0.79      4815\n",
      "           0       0.84      0.99      0.91     11411\n",
      "           1       0.94      0.86      0.89      9505\n",
      "\n",
      "    accuracy                           0.88     25731\n",
      "   macro avg       0.90      0.84      0.86     25731\n",
      "weighted avg       0.89      0.88      0.88     25731\n",
      "\n",
      "Random Forest Classifier \n",
      "----------------------------------\n",
      "[[ 3971   232   612]\n",
      " [   29 11297    85]\n",
      " [  263   245  8997]]\n",
      "              precision    recall  f1-score   support\n",
      "\n",
      "          -1       0.93      0.82      0.87      4815\n",
      "           0       0.96      0.99      0.97     11411\n",
      "           1       0.93      0.95      0.94      9505\n",
      "\n",
      "    accuracy                           0.94     25731\n",
      "   macro avg       0.94      0.92      0.93     25731\n",
      "weighted avg       0.94      0.94      0.94     25731\n",
      "\n",
      "Xgboost Classifier \n",
      "----------------------------------\n",
      "[[ 3415  1016   384]\n",
      " [   31 11324    56]\n",
      " [  237  1376  7892]]\n",
      "              precision    recall  f1-score   support\n",
      "\n",
      "          -1       0.93      0.71      0.80      4815\n",
      "           0       0.83      0.99      0.90     11411\n",
      "           1       0.95      0.83      0.88      9505\n",
      "\n",
      "    accuracy                           0.88     25731\n",
      "   macro avg       0.90      0.84      0.86     25731\n",
      "weighted avg       0.89      0.88      0.88     25731\n",
      "\n",
      "LGBM \n",
      "---------------------------------\n",
      "[[ 3920   574   321]\n",
      " [   33 11300    78]\n",
      " [  220   651  8634]]\n",
      "              precision    recall  f1-score   support\n",
      "\n",
      "          -1       0.94      0.81      0.87      4815\n",
      "           0       0.90      0.99      0.94     11411\n",
      "           1       0.96      0.91      0.93      9505\n",
      "\n",
      "    accuracy                           0.93     25731\n",
      "   macro avg       0.93      0.90      0.92     25731\n",
      "weighted avg       0.93      0.93      0.93     25731\n",
      "\n"
     ]
    }
   ],
   "source": [
    "# Evaluate models\n",
    "##\n",
    "print(\"Logistic Regression \\n----------------------------------\")\n",
    "print(confusion_matrix(y_test, lr_pred))\n",
    "print(classification_report(y_test, lr_pred))\n",
    "\n",
    "print(\"Linear SVC \\n---------------------------------\")\n",
    "print(confusion_matrix(y_test, svc_pred))\n",
    "print(classification_report(y_test, svc_pred))\n",
    "\n",
    "print(\"SGD \\n---------------------------------\")\n",
    "print(confusion_matrix(y_test, sgd_pred))\n",
    "print(classification_report(y_test, sgd_pred))\n",
    "\n",
    "print(\"Random Forest Classifier \\n----------------------------------\")\n",
    "print(confusion_matrix(y_test, rfc_pred))\n",
    "print(classification_report(y_test, rfc_pred))\n",
    "\n",
    "print(\"Xgboost Classifier \\n----------------------------------\")\n",
    "print(confusion_matrix(y_test, xgb_pred))\n",
    "print(classification_report(y_test, xgb_pred))\n",
    "\n",
    "print(\"LGBM \\n---------------------------------\")\n",
    "print(confusion_matrix(y_test, lgbm_pred))\n",
    "print(classification_report(y_test, lgbm_pred))"
   ]
  },
  {
   "cell_type": "code",
   "execution_count": 38,
   "metadata": {},
   "outputs": [
    {
     "data": {
      "text/plain": [
       "array([0.97100773, 0.96972406, 0.97372717, 0.96976292, 0.96902449])"
      ]
     },
     "execution_count": 38,
     "metadata": {},
     "output_type": "execute_result"
    }
   ],
   "source": [
    "cross_val_score(svc, features, tweets['target'], cv=5)"
   ]
  },
  {
   "cell_type": "code",
   "execution_count": null,
   "metadata": {},
   "outputs": [
    {
     "name": "stdout",
     "output_type": "stream",
     "text": [
      "Logistic Regression \n",
      "------------------------- \n",
      "score=  0.9492269631769622\n",
      "\n",
      "Linear SVC \n",
      "------------------------- \n",
      "score= 0.9706492731618044\n"
     ]
    }
   ],
   "source": [
    "# Making sure that the models are not overfitting using cross val score metric with 5 folds\n",
    "##\n",
    "print(\"Logistic Regression \\n------------------------- \\nscore= \", cross_val_score(lr, features, tweets['target'], cv=5).mean())\n",
    "print(\"\\nLinear SVC \\n------------------------- \\nscore=\", cross_val_score(svc, features, tweets['target'], cv=5).mean())\n",
    "print(\"\\nRandom Forest Classifier \\n------------------------- \\nscore=\", cross_val_score(rfc, features, tweets['target'], cv=5).mean())\n",
    "print(\"\\nXgboost Classifier \\n------------------------- \\nscore=\", cross_val_score(xgb, features, tweets['target'], cv=5).mean())"
   ]
  },
  {
   "cell_type": "code",
   "execution_count": 38,
   "metadata": {},
   "outputs": [],
   "source": [
    "# linear SVC performed best\n",
    "# That's a good score having in mind that the model is attempting to predict between three category classes"
   ]
  },
  {
   "cell_type": "code",
   "execution_count": 29,
   "metadata": {},
   "outputs": [],
   "source": [
    "# saving model\n",
    "from sklearn.pipeline import Pipeline\n",
    "import pickle\n",
    "\n",
    "# retrain\n",
    "pipe = Pipeline([('vectorizer', TfidfVectorizer()), ('classifier', LinearSVC(C=2.0, class_weight=None, dual=False, max_iter=100))])\n",
    "pipe.fit(tweets.text, tweets.target)\n",
    "pickle.dump(pipe, open('saved_model.pkl', 'wb'))"
   ]
  },
  {
   "cell_type": "code",
   "execution_count": 30,
   "metadata": {},
   "outputs": [],
   "source": [
    "# load model\n",
    "model = pickle.load(open('saved_model.pkl', 'rb'))"
   ]
  },
  {
   "cell_type": "code",
   "execution_count": 31,
   "metadata": {},
   "outputs": [
    {
     "data": {
      "text/plain": [
       "array([0])"
      ]
     },
     "execution_count": 31,
     "metadata": {},
     "output_type": "execute_result"
    }
   ],
   "source": [
    "model.predict([\"I don't know\"])"
   ]
  },
  {
   "cell_type": "code",
   "execution_count": 32,
   "metadata": {},
   "outputs": [
    {
     "data": {
      "text/plain": [
       "1"
      ]
     },
     "execution_count": 32,
     "metadata": {},
     "output_type": "execute_result"
    }
   ],
   "source": [
    "np.int(pipe.predict([\"I love people.\"]))"
   ]
  }
 ],
 "metadata": {
  "kernelspec": {
   "display_name": "Python 3",
   "language": "python",
   "name": "python3"
  },
  "language_info": {
   "codemirror_mode": {
    "name": "ipython",
    "version": 3
   },
   "file_extension": ".py",
   "mimetype": "text/x-python",
   "name": "python",
   "nbconvert_exporter": "python",
   "pygments_lexer": "ipython3",
   "version": "3.9.2"
  }
 },
 "nbformat": 4,
 "nbformat_minor": 4
}
