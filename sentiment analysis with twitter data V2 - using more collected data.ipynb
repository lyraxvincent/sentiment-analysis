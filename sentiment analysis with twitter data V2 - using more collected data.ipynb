{
 "cells": [
  {
   "cell_type": "markdown",
   "metadata": {},
   "source": [
    "# Sentiment Analysis with twitter data  \n",
    "This project entails analyzing the sentiment associated with tweets on the current pandemic of covid-19.(As at 24-03-2020)  \n",
    "The data is obtained from twitter using a script I designed,you may have a look at it [here.](https://github.com/lyraxvincent/twitter-tweepy/blob/master/tweetscrap.py)    \n",
    "I modified the script to fit the needs:\n",
    "- Tweets obtained are only from the country Kenya\n",
    "- Tweets obtained are only in the English language\n",
    "- No retweets obtained\n",
    "\n",
    "I used the powerful text processing python module **TextBlob** for this task. ([documentation](https://textblob.readthedocs.io/en/dev/))"
   ]
  },
  {
   "cell_type": "markdown",
   "metadata": {},
   "source": [
    "**Import necessary modules**"
   ]
  },
  {
   "cell_type": "code",
   "execution_count": 78,
   "metadata": {},
   "outputs": [],
   "source": [
    "import pandas as pd\n",
    "from textblob import TextBlob"
   ]
  },
  {
   "cell_type": "markdown",
   "metadata": {},
   "source": [
    "Load the data"
   ]
  },
  {
   "cell_type": "code",
   "execution_count": 79,
   "metadata": {},
   "outputs": [],
   "source": [
    "tweets = pd.read_csv('covidKE tweets.csv')"
   ]
  },
  {
   "cell_type": "markdown",
   "metadata": {},
   "source": [
    "Viewing the data"
   ]
  },
  {
   "cell_type": "code",
   "execution_count": 80,
   "metadata": {
    "scrolled": true
   },
   "outputs": [
    {
     "data": {
      "text/html": [
       "<div>\n",
       "<style scoped>\n",
       "    .dataframe tbody tr th:only-of-type {\n",
       "        vertical-align: middle;\n",
       "    }\n",
       "\n",
       "    .dataframe tbody tr th {\n",
       "        vertical-align: top;\n",
       "    }\n",
       "\n",
       "    .dataframe thead th {\n",
       "        text-align: right;\n",
       "    }\n",
       "</style>\n",
       "<table border=\"1\" class=\"dataframe\">\n",
       "  <thead>\n",
       "    <tr style=\"text-align: right;\">\n",
       "      <th></th>\n",
       "      <th>tweet_id</th>\n",
       "      <th>text</th>\n",
       "      <th>created_at</th>\n",
       "      <th>likes</th>\n",
       "    </tr>\n",
       "  </thead>\n",
       "  <tbody>\n",
       "    <tr>\n",
       "      <th>0</th>\n",
       "      <td>1242123434466979841</td>\n",
       "      <td>Everyday might not be good but there's always ...</td>\n",
       "      <td>2020-03-23 16:17:58</td>\n",
       "      <td>1</td>\n",
       "    </tr>\n",
       "    <tr>\n",
       "      <th>1</th>\n",
       "      <td>1242123396684697603</td>\n",
       "      <td>The next one week 😷\\n\\n #coronaviruskenya</td>\n",
       "      <td>2020-03-23 16:17:49</td>\n",
       "      <td>0</td>\n",
       "    </tr>\n",
       "    <tr>\n",
       "      <th>2</th>\n",
       "      <td>1242123373188124673</td>\n",
       "      <td>#coronaviruskenya #LockdownNow #UhuruKenyatta ...</td>\n",
       "      <td>2020-03-23 16:17:44</td>\n",
       "      <td>0</td>\n",
       "    </tr>\n",
       "    <tr>\n",
       "      <th>3</th>\n",
       "      <td>1242086219519012867</td>\n",
       "      <td>Internet never forget we will remind you that ...</td>\n",
       "      <td>2020-03-23 13:50:06</td>\n",
       "      <td>0</td>\n",
       "    </tr>\n",
       "    <tr>\n",
       "      <th>4</th>\n",
       "      <td>1242123367882330113</td>\n",
       "      <td>@ntsa_kenya @DCI_Kenya #coronaviruskenya If on...</td>\n",
       "      <td>2020-03-23 16:17:43</td>\n",
       "      <td>0</td>\n",
       "    </tr>\n",
       "  </tbody>\n",
       "</table>\n",
       "</div>"
      ],
      "text/plain": [
       "              tweet_id                                               text  \\\n",
       "0  1242123434466979841  Everyday might not be good but there's always ...   \n",
       "1  1242123396684697603          The next one week 😷\\n\\n #coronaviruskenya   \n",
       "2  1242123373188124673  #coronaviruskenya #LockdownNow #UhuruKenyatta ...   \n",
       "3  1242086219519012867  Internet never forget we will remind you that ...   \n",
       "4  1242123367882330113  @ntsa_kenya @DCI_Kenya #coronaviruskenya If on...   \n",
       "\n",
       "            created_at  likes  \n",
       "0  2020-03-23 16:17:58      1  \n",
       "1  2020-03-23 16:17:49      0  \n",
       "2  2020-03-23 16:17:44      0  \n",
       "3  2020-03-23 13:50:06      0  \n",
       "4  2020-03-23 16:17:43      0  "
      ]
     },
     "execution_count": 80,
     "metadata": {},
     "output_type": "execute_result"
    }
   ],
   "source": [
    "tweets.head()"
   ]
  },
  {
   "cell_type": "code",
   "execution_count": 81,
   "metadata": {},
   "outputs": [
    {
     "name": "stdout",
     "output_type": "stream",
     "text": [
      "<class 'pandas.core.frame.DataFrame'>\n",
      "RangeIndex: 1190 entries, 0 to 1189\n",
      "Data columns (total 4 columns):\n",
      " #   Column      Non-Null Count  Dtype \n",
      "---  ------      --------------  ----- \n",
      " 0   tweet_id    1190 non-null   int64 \n",
      " 1   text        1190 non-null   object\n",
      " 2   created_at  1190 non-null   object\n",
      " 3   likes       1190 non-null   int64 \n",
      "dtypes: int64(2), object(2)\n",
      "memory usage: 37.3+ KB\n"
     ]
    }
   ],
   "source": [
    "tweets.info()"
   ]
  },
  {
   "cell_type": "markdown",
   "metadata": {},
   "source": [
    "## Text Preprocessing\n",
    "\n",
    "We remove any special characters, punctuations and stopwords from the tweets."
   ]
  },
  {
   "cell_type": "code",
   "execution_count": 82,
   "metadata": {},
   "outputs": [],
   "source": [
    "import re\n",
    "import string\n",
    "import nltk\n",
    "from nltk.corpus import stopwords"
   ]
  },
  {
   "cell_type": "markdown",
   "metadata": {},
   "source": [
    "Let's design a function for this task"
   ]
  },
  {
   "cell_type": "code",
   "execution_count": 83,
   "metadata": {},
   "outputs": [],
   "source": [
    "regex = re.compile('[^a-zA-Z]')\n",
    "words = set(nltk.corpus.words.words())\n",
    "\n",
    "from nltk.stem import WordNetLemmatizer\n",
    "lemmatizer = WordNetLemmatizer()\n",
    "\n",
    "def text_process(text):\n",
    "    np = text.lower().split('#coronaviruskenya') # Remove the hashtag\n",
    "    np = ''.join(np)\n",
    "    np = [c for c in np if c not in string.punctuation]\n",
    "    np = [c for c in np if c != '\\n'] # Removing newline\n",
    "    np = ''.join(np)\n",
    "    np = np.split('https')[0] # Remove links\n",
    "    np = regex.sub(' ', np) # Remove emojis and any non-letters\n",
    "    np = [word for word in np.split() if word not in stopwords.words('english')] # Remove stopwords\n",
    "    np = [word for word in np if word in words or not word.isalpha()] # removal of non-english words\n",
    "    np = [lemmatizer.lemmatize(word) for word in np] # lemmatization\n",
    "    np =  ' '.join(np)\n",
    "    #textblob spelling correction\n",
    "    np = TextBlob(np)\n",
    "    return str(np.correct())"
   ]
  },
  {
   "cell_type": "code",
   "execution_count": 84,
   "metadata": {},
   "outputs": [],
   "source": [
    "# Apply function to the text column\n",
    "# We will overwrite the text column (after testing the function on a single tweet)\n",
    "\n",
    "tweets['text'] = tweets['text'].apply(text_process)"
   ]
  },
  {
   "cell_type": "code",
   "execution_count": 85,
   "metadata": {},
   "outputs": [
    {
     "data": {
      "text/html": [
       "<div>\n",
       "<style scoped>\n",
       "    .dataframe tbody tr th:only-of-type {\n",
       "        vertical-align: middle;\n",
       "    }\n",
       "\n",
       "    .dataframe tbody tr th {\n",
       "        vertical-align: top;\n",
       "    }\n",
       "\n",
       "    .dataframe thead th {\n",
       "        text-align: right;\n",
       "    }\n",
       "</style>\n",
       "<table border=\"1\" class=\"dataframe\">\n",
       "  <thead>\n",
       "    <tr style=\"text-align: right;\">\n",
       "      <th></th>\n",
       "      <th>tweet_id</th>\n",
       "      <th>text</th>\n",
       "      <th>created_at</th>\n",
       "      <th>likes</th>\n",
       "    </tr>\n",
       "  </thead>\n",
       "  <tbody>\n",
       "    <tr>\n",
       "      <th>0</th>\n",
       "      <td>1242123434466979841</td>\n",
       "      <td>everyday might good there always something goo...</td>\n",
       "      <td>2020-03-23 16:17:58</td>\n",
       "      <td>1</td>\n",
       "    </tr>\n",
       "    <tr>\n",
       "      <th>1</th>\n",
       "      <td>1242123396684697603</td>\n",
       "      <td>next one week</td>\n",
       "      <td>2020-03-23 16:17:49</td>\n",
       "      <td>0</td>\n",
       "    </tr>\n",
       "    <tr>\n",
       "      <th>2</th>\n",
       "      <td>1242123373188124673</td>\n",
       "      <td>imagine people coming self something h</td>\n",
       "      <td>2020-03-23 16:17:44</td>\n",
       "      <td>0</td>\n",
       "    </tr>\n",
       "    <tr>\n",
       "      <th>3</th>\n",
       "      <td>1242086219519012867</td>\n",
       "      <td>never forget remind fight corona</td>\n",
       "      <td>2020-03-23 13:50:06</td>\n",
       "      <td>0</td>\n",
       "    </tr>\n",
       "    <tr>\n",
       "      <th>4</th>\n",
       "      <td>1242123367882330113</td>\n",
       "      <td>they provide food outdoor step well quarante</td>\n",
       "      <td>2020-03-23 16:17:43</td>\n",
       "      <td>0</td>\n",
       "    </tr>\n",
       "  </tbody>\n",
       "</table>\n",
       "</div>"
      ],
      "text/plain": [
       "              tweet_id                                               text  \\\n",
       "0  1242123434466979841  everyday might good there always something goo...   \n",
       "1  1242123396684697603                                      next one week   \n",
       "2  1242123373188124673             imagine people coming self something h   \n",
       "3  1242086219519012867                   never forget remind fight corona   \n",
       "4  1242123367882330113       they provide food outdoor step well quarante   \n",
       "\n",
       "            created_at  likes  \n",
       "0  2020-03-23 16:17:58      1  \n",
       "1  2020-03-23 16:17:49      0  \n",
       "2  2020-03-23 16:17:44      0  \n",
       "3  2020-03-23 13:50:06      0  \n",
       "4  2020-03-23 16:17:43      0  "
      ]
     },
     "execution_count": 85,
     "metadata": {},
     "output_type": "execute_result"
    }
   ],
   "source": [
    "tweets.head()"
   ]
  },
  {
   "cell_type": "markdown",
   "metadata": {},
   "source": [
    "## Sentiment Analysis"
   ]
  },
  {
   "cell_type": "markdown",
   "metadata": {},
   "source": [
    "An example to show how we get the sentiment score/polarity for a single tweet"
   ]
  },
  {
   "cell_type": "code",
   "execution_count": 86,
   "metadata": {},
   "outputs": [
    {
     "data": {
      "text/plain": [
       "Sentiment(polarity=0.39999999999999997, subjectivity=0.6000000000000001)"
      ]
     },
     "execution_count": 86,
     "metadata": {},
     "output_type": "execute_result"
    }
   ],
   "source": [
    "TextBlob(tweets.text[0]).sentiment"
   ]
  },
  {
   "cell_type": "code",
   "execution_count": 87,
   "metadata": {},
   "outputs": [
    {
     "data": {
      "text/plain": [
       "0.39999999999999997"
      ]
     },
     "execution_count": 87,
     "metadata": {},
     "output_type": "execute_result"
    }
   ],
   "source": [
    "TextBlob(tweets['text'][0]).sentiment.polarity"
   ]
  },
  {
   "cell_type": "markdown",
   "metadata": {},
   "source": [
    "Let's add a numerical column relating to text; text length "
   ]
  },
  {
   "cell_type": "code",
   "execution_count": 88,
   "metadata": {},
   "outputs": [],
   "source": [
    "tweets['text length'] = tweets['text'].apply(len)"
   ]
  },
  {
   "cell_type": "code",
   "execution_count": 89,
   "metadata": {},
   "outputs": [
    {
     "data": {
      "text/html": [
       "<div>\n",
       "<style scoped>\n",
       "    .dataframe tbody tr th:only-of-type {\n",
       "        vertical-align: middle;\n",
       "    }\n",
       "\n",
       "    .dataframe tbody tr th {\n",
       "        vertical-align: top;\n",
       "    }\n",
       "\n",
       "    .dataframe thead th {\n",
       "        text-align: right;\n",
       "    }\n",
       "</style>\n",
       "<table border=\"1\" class=\"dataframe\">\n",
       "  <thead>\n",
       "    <tr style=\"text-align: right;\">\n",
       "      <th></th>\n",
       "      <th>tweet_id</th>\n",
       "      <th>text</th>\n",
       "      <th>created_at</th>\n",
       "      <th>likes</th>\n",
       "      <th>text length</th>\n",
       "    </tr>\n",
       "  </thead>\n",
       "  <tbody>\n",
       "    <tr>\n",
       "      <th>0</th>\n",
       "      <td>1242123434466979841</td>\n",
       "      <td>everyday might good there always something goo...</td>\n",
       "      <td>2020-03-23 16:17:58</td>\n",
       "      <td>1</td>\n",
       "      <td>57</td>\n",
       "    </tr>\n",
       "    <tr>\n",
       "      <th>1</th>\n",
       "      <td>1242123396684697603</td>\n",
       "      <td>next one week</td>\n",
       "      <td>2020-03-23 16:17:49</td>\n",
       "      <td>0</td>\n",
       "      <td>13</td>\n",
       "    </tr>\n",
       "    <tr>\n",
       "      <th>2</th>\n",
       "      <td>1242123373188124673</td>\n",
       "      <td>imagine people coming self something h</td>\n",
       "      <td>2020-03-23 16:17:44</td>\n",
       "      <td>0</td>\n",
       "      <td>38</td>\n",
       "    </tr>\n",
       "    <tr>\n",
       "      <th>3</th>\n",
       "      <td>1242086219519012867</td>\n",
       "      <td>never forget remind fight corona</td>\n",
       "      <td>2020-03-23 13:50:06</td>\n",
       "      <td>0</td>\n",
       "      <td>32</td>\n",
       "    </tr>\n",
       "    <tr>\n",
       "      <th>4</th>\n",
       "      <td>1242123367882330113</td>\n",
       "      <td>they provide food outdoor step well quarante</td>\n",
       "      <td>2020-03-23 16:17:43</td>\n",
       "      <td>0</td>\n",
       "      <td>44</td>\n",
       "    </tr>\n",
       "  </tbody>\n",
       "</table>\n",
       "</div>"
      ],
      "text/plain": [
       "              tweet_id                                               text  \\\n",
       "0  1242123434466979841  everyday might good there always something goo...   \n",
       "1  1242123396684697603                                      next one week   \n",
       "2  1242123373188124673             imagine people coming self something h   \n",
       "3  1242086219519012867                   never forget remind fight corona   \n",
       "4  1242123367882330113       they provide food outdoor step well quarante   \n",
       "\n",
       "            created_at  likes  text length  \n",
       "0  2020-03-23 16:17:58      1           57  \n",
       "1  2020-03-23 16:17:49      0           13  \n",
       "2  2020-03-23 16:17:44      0           38  \n",
       "3  2020-03-23 13:50:06      0           32  \n",
       "4  2020-03-23 16:17:43      0           44  "
      ]
     },
     "execution_count": 89,
     "metadata": {},
     "output_type": "execute_result"
    }
   ],
   "source": [
    "tweets.head()"
   ]
  },
  {
   "cell_type": "markdown",
   "metadata": {},
   "source": [
    "Now we design a function to apply to the text column to produce polarity for each tweet"
   ]
  },
  {
   "cell_type": "code",
   "execution_count": 90,
   "metadata": {},
   "outputs": [],
   "source": [
    "def get_polarity(text):\n",
    "    return TextBlob(text).sentiment.polarity"
   ]
  },
  {
   "cell_type": "markdown",
   "metadata": {},
   "source": [
    "We add a new column to the dataframe based off of tweet polarity"
   ]
  },
  {
   "cell_type": "code",
   "execution_count": 91,
   "metadata": {},
   "outputs": [],
   "source": [
    "tweets['polarity'] = tweets['text'].apply(get_polarity)"
   ]
  },
  {
   "cell_type": "code",
   "execution_count": 92,
   "metadata": {},
   "outputs": [],
   "source": [
    "# Short form using lambda\n",
    "##\n",
    "#tweets['polarity'] = tweets['text'].apply(lambda text: TextBlob(text).sentiment.polarity)"
   ]
  },
  {
   "cell_type": "code",
   "execution_count": 93,
   "metadata": {},
   "outputs": [
    {
     "data": {
      "text/html": [
       "<div>\n",
       "<style scoped>\n",
       "    .dataframe tbody tr th:only-of-type {\n",
       "        vertical-align: middle;\n",
       "    }\n",
       "\n",
       "    .dataframe tbody tr th {\n",
       "        vertical-align: top;\n",
       "    }\n",
       "\n",
       "    .dataframe thead th {\n",
       "        text-align: right;\n",
       "    }\n",
       "</style>\n",
       "<table border=\"1\" class=\"dataframe\">\n",
       "  <thead>\n",
       "    <tr style=\"text-align: right;\">\n",
       "      <th></th>\n",
       "      <th>tweet_id</th>\n",
       "      <th>text</th>\n",
       "      <th>created_at</th>\n",
       "      <th>likes</th>\n",
       "      <th>text length</th>\n",
       "      <th>polarity</th>\n",
       "    </tr>\n",
       "  </thead>\n",
       "  <tbody>\n",
       "    <tr>\n",
       "      <th>386</th>\n",
       "      <td>1242105494883446796</td>\n",
       "      <td>people flying country force infected confirmed</td>\n",
       "      <td>2020-03-23 15:06:41</td>\n",
       "      <td>0</td>\n",
       "      <td>46</td>\n",
       "      <td>0.400000</td>\n",
       "    </tr>\n",
       "    <tr>\n",
       "      <th>1127</th>\n",
       "      <td>1242068201732743176</td>\n",
       "      <td>hard time ahead president thinking otherwise i...</td>\n",
       "      <td>2020-03-23 12:38:30</td>\n",
       "      <td>1</td>\n",
       "      <td>67</td>\n",
       "      <td>-0.291667</td>\n",
       "    </tr>\n",
       "    <tr>\n",
       "      <th>1012</th>\n",
       "      <td>1242077510805979138</td>\n",
       "      <td></td>\n",
       "      <td>2020-03-23 13:15:29</td>\n",
       "      <td>0</td>\n",
       "      <td>0</td>\n",
       "      <td>0.000000</td>\n",
       "    </tr>\n",
       "    <tr>\n",
       "      <th>1171</th>\n",
       "      <td>1242064802916306944</td>\n",
       "      <td>finally guy behind looking escape</td>\n",
       "      <td>2020-03-23 12:25:00</td>\n",
       "      <td>4</td>\n",
       "      <td>33</td>\n",
       "      <td>-0.200000</td>\n",
       "    </tr>\n",
       "    <tr>\n",
       "      <th>567</th>\n",
       "      <td>1242067958328893448</td>\n",
       "      <td>day since said self quarante two period see bus</td>\n",
       "      <td>2020-03-23 12:37:32</td>\n",
       "      <td>0</td>\n",
       "      <td>47</td>\n",
       "      <td>0.000000</td>\n",
       "    </tr>\n",
       "    <tr>\n",
       "      <th>1028</th>\n",
       "      <td>1242076823795773440</td>\n",
       "      <td>government serious rich trying force corona po...</td>\n",
       "      <td>2020-03-23 13:12:46</td>\n",
       "      <td>0</td>\n",
       "      <td>50</td>\n",
       "      <td>-0.119444</td>\n",
       "    </tr>\n",
       "    <tr>\n",
       "      <th>496</th>\n",
       "      <td>1242101086669996038</td>\n",
       "      <td>could way chip help u survive anaemic personally</td>\n",
       "      <td>2020-03-23 14:49:10</td>\n",
       "      <td>0</td>\n",
       "      <td>48</td>\n",
       "      <td>0.000000</td>\n",
       "    </tr>\n",
       "    <tr>\n",
       "      <th>803</th>\n",
       "      <td>1242090349805350912</td>\n",
       "      <td>went slow stupid silly government law always a...</td>\n",
       "      <td>2020-03-23 14:06:30</td>\n",
       "      <td>2</td>\n",
       "      <td>52</td>\n",
       "      <td>-0.533333</td>\n",
       "    </tr>\n",
       "    <tr>\n",
       "      <th>1055</th>\n",
       "      <td>1242074830842793985</td>\n",
       "      <td>probably best thing read today click link</td>\n",
       "      <td>2020-03-23 13:04:50</td>\n",
       "      <td>1</td>\n",
       "      <td>41</td>\n",
       "      <td>1.000000</td>\n",
       "    </tr>\n",
       "    <tr>\n",
       "      <th>421</th>\n",
       "      <td>1242104144342716416</td>\n",
       "      <td>invention year</td>\n",
       "      <td>2020-03-23 15:01:19</td>\n",
       "      <td>0</td>\n",
       "      <td>14</td>\n",
       "      <td>0.000000</td>\n",
       "    </tr>\n",
       "    <tr>\n",
       "      <th>680</th>\n",
       "      <td>1242095041721577475</td>\n",
       "      <td>catholic church bunch</td>\n",
       "      <td>2020-03-23 14:25:09</td>\n",
       "      <td>1</td>\n",
       "      <td>21</td>\n",
       "      <td>0.000000</td>\n",
       "    </tr>\n",
       "    <tr>\n",
       "      <th>1016</th>\n",
       "      <td>1242077332317364224</td>\n",
       "      <td></td>\n",
       "      <td>2020-03-23 13:14:47</td>\n",
       "      <td>3</td>\n",
       "      <td>0</td>\n",
       "      <td>0.000000</td>\n",
       "    </tr>\n",
       "    <tr>\n",
       "      <th>4</th>\n",
       "      <td>1242123367882330113</td>\n",
       "      <td>they provide food outdoor step well quarante</td>\n",
       "      <td>2020-03-23 16:17:43</td>\n",
       "      <td>0</td>\n",
       "      <td>44</td>\n",
       "      <td>0.000000</td>\n",
       "    </tr>\n",
       "    <tr>\n",
       "      <th>775</th>\n",
       "      <td>1242075780877897730</td>\n",
       "      <td>can stop without protecting</td>\n",
       "      <td>2020-03-23 13:08:37</td>\n",
       "      <td>0</td>\n",
       "      <td>27</td>\n",
       "      <td>0.000000</td>\n",
       "    </tr>\n",
       "    <tr>\n",
       "      <th>102</th>\n",
       "      <td>1242083723622916096</td>\n",
       "      <td>established catholic priest led mass burial co...</td>\n",
       "      <td>2020-03-23 13:40:11</td>\n",
       "      <td>1</td>\n",
       "      <td>56</td>\n",
       "      <td>0.000000</td>\n",
       "    </tr>\n",
       "    <tr>\n",
       "      <th>515</th>\n",
       "      <td>1242100278427635712</td>\n",
       "      <td>like dating rich guy</td>\n",
       "      <td>2020-03-23 14:45:58</td>\n",
       "      <td>0</td>\n",
       "      <td>20</td>\n",
       "      <td>0.375000</td>\n",
       "    </tr>\n",
       "    <tr>\n",
       "      <th>954</th>\n",
       "      <td>1242081430571823104</td>\n",
       "      <td>see even failing u seriously what hard</td>\n",
       "      <td>2020-03-23 13:31:04</td>\n",
       "      <td>3</td>\n",
       "      <td>38</td>\n",
       "      <td>-0.312500</td>\n",
       "    </tr>\n",
       "    <tr>\n",
       "      <th>849</th>\n",
       "      <td>1242072693802962944</td>\n",
       "      <td>sewing u religion</td>\n",
       "      <td>2020-03-23 12:56:21</td>\n",
       "      <td>0</td>\n",
       "      <td>17</td>\n",
       "      <td>0.000000</td>\n",
       "    </tr>\n",
       "    <tr>\n",
       "      <th>419</th>\n",
       "      <td>1242104208242991104</td>\n",
       "      <td>reverse order really treading dangerous</td>\n",
       "      <td>2020-03-23 15:01:35</td>\n",
       "      <td>0</td>\n",
       "      <td>39</td>\n",
       "      <td>-0.200000</td>\n",
       "    </tr>\n",
       "    <tr>\n",
       "      <th>925</th>\n",
       "      <td>1242083517313560577</td>\n",
       "      <td>hi also know booking</td>\n",
       "      <td>2020-03-23 13:39:21</td>\n",
       "      <td>1</td>\n",
       "      <td>20</td>\n",
       "      <td>0.000000</td>\n",
       "    </tr>\n",
       "    <tr>\n",
       "      <th>203</th>\n",
       "      <td>1242114644736651265</td>\n",
       "      <td>get get tested g way handling delay</td>\n",
       "      <td>2020-03-23 15:43:03</td>\n",
       "      <td>0</td>\n",
       "      <td>35</td>\n",
       "      <td>0.000000</td>\n",
       "    </tr>\n",
       "    <tr>\n",
       "      <th>551</th>\n",
       "      <td>1242099101354860546</td>\n",
       "      <td>happening innocent depend flying country medic...</td>\n",
       "      <td>2020-03-23 14:41:17</td>\n",
       "      <td>1</td>\n",
       "      <td>54</td>\n",
       "      <td>0.250000</td>\n",
       "    </tr>\n",
       "    <tr>\n",
       "      <th>489</th>\n",
       "      <td>1242101392988397568</td>\n",
       "      <td>dont understand word appeal simply doesn exist</td>\n",
       "      <td>2020-03-23 14:50:23</td>\n",
       "      <td>0</td>\n",
       "      <td>46</td>\n",
       "      <td>0.000000</td>\n",
       "    </tr>\n",
       "    <tr>\n",
       "      <th>1024</th>\n",
       "      <td>1242076896210358273</td>\n",
       "      <td>none essential social strictly</td>\n",
       "      <td>2020-03-23 13:13:03</td>\n",
       "      <td>3</td>\n",
       "      <td>30</td>\n",
       "      <td>0.016667</td>\n",
       "    </tr>\n",
       "    <tr>\n",
       "      <th>653</th>\n",
       "      <td>1242081244231467008</td>\n",
       "      <td>stay safe dating</td>\n",
       "      <td>2020-03-23 13:30:20</td>\n",
       "      <td>0</td>\n",
       "      <td>16</td>\n",
       "      <td>0.500000</td>\n",
       "    </tr>\n",
       "    <tr>\n",
       "      <th>323</th>\n",
       "      <td>1242108050674266113</td>\n",
       "      <td>total lock way without</td>\n",
       "      <td>2020-03-23 15:16:51</td>\n",
       "      <td>0</td>\n",
       "      <td>22</td>\n",
       "      <td>0.000000</td>\n",
       "    </tr>\n",
       "    <tr>\n",
       "      <th>170</th>\n",
       "      <td>1242116312110977025</td>\n",
       "      <td>say want rule could procedure</td>\n",
       "      <td>2020-03-23 15:49:40</td>\n",
       "      <td>0</td>\n",
       "      <td>29</td>\n",
       "      <td>0.000000</td>\n",
       "    </tr>\n",
       "    <tr>\n",
       "      <th>605</th>\n",
       "      <td>1242097348202967043</td>\n",
       "      <td>came contact could affected</td>\n",
       "      <td>2020-03-23 14:34:19</td>\n",
       "      <td>0</td>\n",
       "      <td>27</td>\n",
       "      <td>0.000000</td>\n",
       "    </tr>\n",
       "    <tr>\n",
       "      <th>1132</th>\n",
       "      <td>1242067898337767431</td>\n",
       "      <td>nation humanity high time listen carefully min...</td>\n",
       "      <td>2020-03-23 12:37:18</td>\n",
       "      <td>0</td>\n",
       "      <td>58</td>\n",
       "      <td>0.030000</td>\n",
       "    </tr>\n",
       "    <tr>\n",
       "      <th>783</th>\n",
       "      <td>1242091059422904322</td>\n",
       "      <td>county ordered release country worse</td>\n",
       "      <td>2020-03-23 14:09:20</td>\n",
       "      <td>0</td>\n",
       "      <td>36</td>\n",
       "      <td>-0.400000</td>\n",
       "    </tr>\n",
       "  </tbody>\n",
       "</table>\n",
       "</div>"
      ],
      "text/plain": [
       "                 tweet_id                                               text  \\\n",
       "386   1242105494883446796     people flying country force infected confirmed   \n",
       "1127  1242068201732743176  hard time ahead president thinking otherwise i...   \n",
       "1012  1242077510805979138                                                      \n",
       "1171  1242064802916306944                  finally guy behind looking escape   \n",
       "567   1242067958328893448    day since said self quarante two period see bus   \n",
       "1028  1242076823795773440  government serious rich trying force corona po...   \n",
       "496   1242101086669996038   could way chip help u survive anaemic personally   \n",
       "803   1242090349805350912  went slow stupid silly government law always a...   \n",
       "1055  1242074830842793985          probably best thing read today click link   \n",
       "421   1242104144342716416                                     invention year   \n",
       "680   1242095041721577475                              catholic church bunch   \n",
       "1016  1242077332317364224                                                      \n",
       "4     1242123367882330113       they provide food outdoor step well quarante   \n",
       "775   1242075780877897730                        can stop without protecting   \n",
       "102   1242083723622916096  established catholic priest led mass burial co...   \n",
       "515   1242100278427635712                               like dating rich guy   \n",
       "954   1242081430571823104             see even failing u seriously what hard   \n",
       "849   1242072693802962944                                  sewing u religion   \n",
       "419   1242104208242991104            reverse order really treading dangerous   \n",
       "925   1242083517313560577                               hi also know booking   \n",
       "203   1242114644736651265                get get tested g way handling delay   \n",
       "551   1242099101354860546  happening innocent depend flying country medic...   \n",
       "489   1242101392988397568     dont understand word appeal simply doesn exist   \n",
       "1024  1242076896210358273                     none essential social strictly   \n",
       "653   1242081244231467008                                   stay safe dating   \n",
       "323   1242108050674266113                             total lock way without   \n",
       "170   1242116312110977025                      say want rule could procedure   \n",
       "605   1242097348202967043                        came contact could affected   \n",
       "1132  1242067898337767431  nation humanity high time listen carefully min...   \n",
       "783   1242091059422904322               county ordered release country worse   \n",
       "\n",
       "               created_at  likes  text length  polarity  \n",
       "386   2020-03-23 15:06:41      0           46  0.400000  \n",
       "1127  2020-03-23 12:38:30      1           67 -0.291667  \n",
       "1012  2020-03-23 13:15:29      0            0  0.000000  \n",
       "1171  2020-03-23 12:25:00      4           33 -0.200000  \n",
       "567   2020-03-23 12:37:32      0           47  0.000000  \n",
       "1028  2020-03-23 13:12:46      0           50 -0.119444  \n",
       "496   2020-03-23 14:49:10      0           48  0.000000  \n",
       "803   2020-03-23 14:06:30      2           52 -0.533333  \n",
       "1055  2020-03-23 13:04:50      1           41  1.000000  \n",
       "421   2020-03-23 15:01:19      0           14  0.000000  \n",
       "680   2020-03-23 14:25:09      1           21  0.000000  \n",
       "1016  2020-03-23 13:14:47      3            0  0.000000  \n",
       "4     2020-03-23 16:17:43      0           44  0.000000  \n",
       "775   2020-03-23 13:08:37      0           27  0.000000  \n",
       "102   2020-03-23 13:40:11      1           56  0.000000  \n",
       "515   2020-03-23 14:45:58      0           20  0.375000  \n",
       "954   2020-03-23 13:31:04      3           38 -0.312500  \n",
       "849   2020-03-23 12:56:21      0           17  0.000000  \n",
       "419   2020-03-23 15:01:35      0           39 -0.200000  \n",
       "925   2020-03-23 13:39:21      1           20  0.000000  \n",
       "203   2020-03-23 15:43:03      0           35  0.000000  \n",
       "551   2020-03-23 14:41:17      1           54  0.250000  \n",
       "489   2020-03-23 14:50:23      0           46  0.000000  \n",
       "1024  2020-03-23 13:13:03      3           30  0.016667  \n",
       "653   2020-03-23 13:30:20      0           16  0.500000  \n",
       "323   2020-03-23 15:16:51      0           22  0.000000  \n",
       "170   2020-03-23 15:49:40      0           29  0.000000  \n",
       "605   2020-03-23 14:34:19      0           27  0.000000  \n",
       "1132  2020-03-23 12:37:18      0           58  0.030000  \n",
       "783   2020-03-23 14:09:20      0           36 -0.400000  "
      ]
     },
     "execution_count": 93,
     "metadata": {},
     "output_type": "execute_result"
    }
   ],
   "source": [
    "tweets.sample(30)"
   ]
  },
  {
   "cell_type": "markdown",
   "metadata": {},
   "source": [
    "Tweets with lowest polarity(-1)"
   ]
  },
  {
   "cell_type": "code",
   "execution_count": 94,
   "metadata": {},
   "outputs": [
    {
     "data": {
      "text/html": [
       "<div>\n",
       "<style scoped>\n",
       "    .dataframe tbody tr th:only-of-type {\n",
       "        vertical-align: middle;\n",
       "    }\n",
       "\n",
       "    .dataframe tbody tr th {\n",
       "        vertical-align: top;\n",
       "    }\n",
       "\n",
       "    .dataframe thead th {\n",
       "        text-align: right;\n",
       "    }\n",
       "</style>\n",
       "<table border=\"1\" class=\"dataframe\">\n",
       "  <thead>\n",
       "    <tr style=\"text-align: right;\">\n",
       "      <th></th>\n",
       "      <th>tweet_id</th>\n",
       "      <th>text</th>\n",
       "      <th>created_at</th>\n",
       "      <th>likes</th>\n",
       "      <th>text length</th>\n",
       "      <th>polarity</th>\n",
       "    </tr>\n",
       "  </thead>\n",
       "  <tbody>\n",
       "    <tr>\n",
       "      <th>357</th>\n",
       "      <td>1242106974927573000</td>\n",
       "      <td>a dont think worst time</td>\n",
       "      <td>2020-03-23 15:12:34</td>\n",
       "      <td>2</td>\n",
       "      <td>23</td>\n",
       "      <td>-1.0</td>\n",
       "    </tr>\n",
       "    <tr>\n",
       "      <th>645</th>\n",
       "      <td>1242096205234085894</td>\n",
       "      <td>worst thing father mother brother sister u</td>\n",
       "      <td>2020-03-23 14:29:47</td>\n",
       "      <td>1</td>\n",
       "      <td>42</td>\n",
       "      <td>-1.0</td>\n",
       "    </tr>\n",
       "    <tr>\n",
       "      <th>1009</th>\n",
       "      <td>1242077721976545280</td>\n",
       "      <td>worst time cut could</td>\n",
       "      <td>2020-03-23 13:16:20</td>\n",
       "      <td>0</td>\n",
       "      <td>20</td>\n",
       "      <td>-1.0</td>\n",
       "    </tr>\n",
       "  </tbody>\n",
       "</table>\n",
       "</div>"
      ],
      "text/plain": [
       "                 tweet_id                                        text  \\\n",
       "357   1242106974927573000                     a dont think worst time   \n",
       "645   1242096205234085894  worst thing father mother brother sister u   \n",
       "1009  1242077721976545280                        worst time cut could   \n",
       "\n",
       "               created_at  likes  text length  polarity  \n",
       "357   2020-03-23 15:12:34      2           23      -1.0  \n",
       "645   2020-03-23 14:29:47      1           42      -1.0  \n",
       "1009  2020-03-23 13:16:20      0           20      -1.0  "
      ]
     },
     "execution_count": 94,
     "metadata": {},
     "output_type": "execute_result"
    }
   ],
   "source": [
    "tweets[tweets['polarity'] == -1]"
   ]
  },
  {
   "cell_type": "markdown",
   "metadata": {},
   "source": [
    "Tweets with polarity 0"
   ]
  },
  {
   "cell_type": "code",
   "execution_count": 95,
   "metadata": {},
   "outputs": [
    {
     "data": {
      "text/html": [
       "<div>\n",
       "<style scoped>\n",
       "    .dataframe tbody tr th:only-of-type {\n",
       "        vertical-align: middle;\n",
       "    }\n",
       "\n",
       "    .dataframe tbody tr th {\n",
       "        vertical-align: top;\n",
       "    }\n",
       "\n",
       "    .dataframe thead th {\n",
       "        text-align: right;\n",
       "    }\n",
       "</style>\n",
       "<table border=\"1\" class=\"dataframe\">\n",
       "  <thead>\n",
       "    <tr style=\"text-align: right;\">\n",
       "      <th></th>\n",
       "      <th>tweet_id</th>\n",
       "      <th>text</th>\n",
       "      <th>created_at</th>\n",
       "      <th>likes</th>\n",
       "      <th>text length</th>\n",
       "      <th>polarity</th>\n",
       "    </tr>\n",
       "  </thead>\n",
       "  <tbody>\n",
       "    <tr>\n",
       "      <th>1</th>\n",
       "      <td>1242123396684697603</td>\n",
       "      <td>next one week</td>\n",
       "      <td>2020-03-23 16:17:49</td>\n",
       "      <td>0</td>\n",
       "      <td>13</td>\n",
       "      <td>0.0</td>\n",
       "    </tr>\n",
       "    <tr>\n",
       "      <th>2</th>\n",
       "      <td>1242123373188124673</td>\n",
       "      <td>imagine people coming self something h</td>\n",
       "      <td>2020-03-23 16:17:44</td>\n",
       "      <td>0</td>\n",
       "      <td>38</td>\n",
       "      <td>0.0</td>\n",
       "    </tr>\n",
       "    <tr>\n",
       "      <th>3</th>\n",
       "      <td>1242086219519012867</td>\n",
       "      <td>never forget remind fight corona</td>\n",
       "      <td>2020-03-23 13:50:06</td>\n",
       "      <td>0</td>\n",
       "      <td>32</td>\n",
       "      <td>0.0</td>\n",
       "    </tr>\n",
       "    <tr>\n",
       "      <th>4</th>\n",
       "      <td>1242123367882330113</td>\n",
       "      <td>they provide food outdoor step well quarante</td>\n",
       "      <td>2020-03-23 16:17:43</td>\n",
       "      <td>0</td>\n",
       "      <td>44</td>\n",
       "      <td>0.0</td>\n",
       "    </tr>\n",
       "    <tr>\n",
       "      <th>5</th>\n",
       "      <td>1242123307903844353</td>\n",
       "      <td>like said total shutdown</td>\n",
       "      <td>2020-03-23 16:17:28</td>\n",
       "      <td>0</td>\n",
       "      <td>24</td>\n",
       "      <td>0.0</td>\n",
       "    </tr>\n",
       "    <tr>\n",
       "      <th>...</th>\n",
       "      <td>...</td>\n",
       "      <td>...</td>\n",
       "      <td>...</td>\n",
       "      <td>...</td>\n",
       "      <td>...</td>\n",
       "      <td>...</td>\n",
       "    </tr>\n",
       "    <tr>\n",
       "      <th>1181</th>\n",
       "      <td>1242064302816874502</td>\n",
       "      <td>inequality different would</td>\n",
       "      <td>2020-03-23 12:23:00</td>\n",
       "      <td>0</td>\n",
       "      <td>26</td>\n",
       "      <td>0.0</td>\n",
       "    </tr>\n",
       "    <tr>\n",
       "      <th>1182</th>\n",
       "      <td>1242064212895174662</td>\n",
       "      <td>death zimbabwe corona virus</td>\n",
       "      <td>2020-03-23 12:22:39</td>\n",
       "      <td>4</td>\n",
       "      <td>27</td>\n",
       "      <td>0.0</td>\n",
       "    </tr>\n",
       "    <tr>\n",
       "      <th>1183</th>\n",
       "      <td>1242064211800477697</td>\n",
       "      <td>three county came back trip put mandatory quar...</td>\n",
       "      <td>2020-03-23 12:22:39</td>\n",
       "      <td>2</td>\n",
       "      <td>50</td>\n",
       "      <td>0.0</td>\n",
       "    </tr>\n",
       "    <tr>\n",
       "      <th>1184</th>\n",
       "      <td>1242064200840744960</td>\n",
       "      <td>graceful enough observe protocol stay matter u...</td>\n",
       "      <td>2020-03-23 12:22:36</td>\n",
       "      <td>2</td>\n",
       "      <td>65</td>\n",
       "      <td>0.0</td>\n",
       "    </tr>\n",
       "    <tr>\n",
       "      <th>1187</th>\n",
       "      <td>1242063970632163329</td>\n",
       "      <td>people lose trust governing becomes face choice</td>\n",
       "      <td>2020-03-23 12:21:41</td>\n",
       "      <td>1</td>\n",
       "      <td>47</td>\n",
       "      <td>0.0</td>\n",
       "    </tr>\n",
       "  </tbody>\n",
       "</table>\n",
       "<p>620 rows × 6 columns</p>\n",
       "</div>"
      ],
      "text/plain": [
       "                 tweet_id                                               text  \\\n",
       "1     1242123396684697603                                      next one week   \n",
       "2     1242123373188124673             imagine people coming self something h   \n",
       "3     1242086219519012867                   never forget remind fight corona   \n",
       "4     1242123367882330113       they provide food outdoor step well quarante   \n",
       "5     1242123307903844353                           like said total shutdown   \n",
       "...                   ...                                                ...   \n",
       "1181  1242064302816874502                         inequality different would   \n",
       "1182  1242064212895174662                        death zimbabwe corona virus   \n",
       "1183  1242064211800477697  three county came back trip put mandatory quar...   \n",
       "1184  1242064200840744960  graceful enough observe protocol stay matter u...   \n",
       "1187  1242063970632163329    people lose trust governing becomes face choice   \n",
       "\n",
       "               created_at  likes  text length  polarity  \n",
       "1     2020-03-23 16:17:49      0           13       0.0  \n",
       "2     2020-03-23 16:17:44      0           38       0.0  \n",
       "3     2020-03-23 13:50:06      0           32       0.0  \n",
       "4     2020-03-23 16:17:43      0           44       0.0  \n",
       "5     2020-03-23 16:17:28      0           24       0.0  \n",
       "...                   ...    ...          ...       ...  \n",
       "1181  2020-03-23 12:23:00      0           26       0.0  \n",
       "1182  2020-03-23 12:22:39      4           27       0.0  \n",
       "1183  2020-03-23 12:22:39      2           50       0.0  \n",
       "1184  2020-03-23 12:22:36      2           65       0.0  \n",
       "1187  2020-03-23 12:21:41      1           47       0.0  \n",
       "\n",
       "[620 rows x 6 columns]"
      ]
     },
     "execution_count": 95,
     "metadata": {},
     "output_type": "execute_result"
    }
   ],
   "source": [
    "tweets[tweets['polarity'] == 0]"
   ]
  },
  {
   "cell_type": "markdown",
   "metadata": {},
   "source": [
    "Tweets with highest polarity(1)"
   ]
  },
  {
   "cell_type": "code",
   "execution_count": 96,
   "metadata": {},
   "outputs": [
    {
     "data": {
      "text/html": [
       "<div>\n",
       "<style scoped>\n",
       "    .dataframe tbody tr th:only-of-type {\n",
       "        vertical-align: middle;\n",
       "    }\n",
       "\n",
       "    .dataframe tbody tr th {\n",
       "        vertical-align: top;\n",
       "    }\n",
       "\n",
       "    .dataframe thead th {\n",
       "        text-align: right;\n",
       "    }\n",
       "</style>\n",
       "<table border=\"1\" class=\"dataframe\">\n",
       "  <thead>\n",
       "    <tr style=\"text-align: right;\">\n",
       "      <th></th>\n",
       "      <th>tweet_id</th>\n",
       "      <th>text</th>\n",
       "      <th>created_at</th>\n",
       "      <th>likes</th>\n",
       "      <th>text length</th>\n",
       "      <th>polarity</th>\n",
       "    </tr>\n",
       "  </thead>\n",
       "  <tbody>\n",
       "    <tr>\n",
       "      <th>237</th>\n",
       "      <td>1242112888082481153</td>\n",
       "      <td>best version crisis</td>\n",
       "      <td>2020-03-23 15:36:04</td>\n",
       "      <td>0</td>\n",
       "      <td>19</td>\n",
       "      <td>1.0</td>\n",
       "    </tr>\n",
       "    <tr>\n",
       "      <th>1055</th>\n",
       "      <td>1242074830842793985</td>\n",
       "      <td>probably best thing read today click link</td>\n",
       "      <td>2020-03-23 13:04:50</td>\n",
       "      <td>1</td>\n",
       "      <td>41</td>\n",
       "      <td>1.0</td>\n",
       "    </tr>\n",
       "    <tr>\n",
       "      <th>1066</th>\n",
       "      <td>1242073657297551370</td>\n",
       "      <td>create best shoe impression made recorder</td>\n",
       "      <td>2020-03-23 13:00:11</td>\n",
       "      <td>0</td>\n",
       "      <td>41</td>\n",
       "      <td>1.0</td>\n",
       "    </tr>\n",
       "  </tbody>\n",
       "</table>\n",
       "</div>"
      ],
      "text/plain": [
       "                 tweet_id                                       text  \\\n",
       "237   1242112888082481153                        best version crisis   \n",
       "1055  1242074830842793985  probably best thing read today click link   \n",
       "1066  1242073657297551370  create best shoe impression made recorder   \n",
       "\n",
       "               created_at  likes  text length  polarity  \n",
       "237   2020-03-23 15:36:04      0           19       1.0  \n",
       "1055  2020-03-23 13:04:50      1           41       1.0  \n",
       "1066  2020-03-23 13:00:11      0           41       1.0  "
      ]
     },
     "execution_count": 96,
     "metadata": {},
     "output_type": "execute_result"
    }
   ],
   "source": [
    "tweets[tweets['polarity'] == 1]"
   ]
  },
  {
   "cell_type": "code",
   "execution_count": 97,
   "metadata": {},
   "outputs": [],
   "source": [
    "# It is evident that more than half of the obtained tweets have polarity 0"
   ]
  },
  {
   "cell_type": "markdown",
   "metadata": {},
   "source": [
    "Tweets with negative polarity"
   ]
  },
  {
   "cell_type": "code",
   "execution_count": 98,
   "metadata": {},
   "outputs": [
    {
     "data": {
      "text/html": [
       "<div>\n",
       "<style scoped>\n",
       "    .dataframe tbody tr th:only-of-type {\n",
       "        vertical-align: middle;\n",
       "    }\n",
       "\n",
       "    .dataframe tbody tr th {\n",
       "        vertical-align: top;\n",
       "    }\n",
       "\n",
       "    .dataframe thead th {\n",
       "        text-align: right;\n",
       "    }\n",
       "</style>\n",
       "<table border=\"1\" class=\"dataframe\">\n",
       "  <thead>\n",
       "    <tr style=\"text-align: right;\">\n",
       "      <th></th>\n",
       "      <th>tweet_id</th>\n",
       "      <th>text</th>\n",
       "      <th>created_at</th>\n",
       "      <th>likes</th>\n",
       "      <th>text length</th>\n",
       "      <th>polarity</th>\n",
       "    </tr>\n",
       "  </thead>\n",
       "  <tbody>\n",
       "    <tr>\n",
       "      <th>10</th>\n",
       "      <td>1242099789694750720</td>\n",
       "      <td>need help mean corona na cure</td>\n",
       "      <td>2020-03-23 14:44:01</td>\n",
       "      <td>1</td>\n",
       "      <td>29</td>\n",
       "      <td>-0.3125</td>\n",
       "    </tr>\n",
       "    <tr>\n",
       "      <th>11</th>\n",
       "      <td>1242099788893564929</td>\n",
       "      <td>money anaemic difficult chose dying hunger</td>\n",
       "      <td>2020-03-23 14:44:01</td>\n",
       "      <td>0</td>\n",
       "      <td>42</td>\n",
       "      <td>-0.5000</td>\n",
       "    </tr>\n",
       "    <tr>\n",
       "      <th>27</th>\n",
       "      <td>1242122438814715904</td>\n",
       "      <td>time want see coming help poor society see</td>\n",
       "      <td>2020-03-23 16:14:01</td>\n",
       "      <td>0</td>\n",
       "      <td>42</td>\n",
       "      <td>-0.4000</td>\n",
       "    </tr>\n",
       "    <tr>\n",
       "      <th>40</th>\n",
       "      <td>1242122030373318657</td>\n",
       "      <td>logic behind gap bathroom</td>\n",
       "      <td>2020-03-23 16:12:24</td>\n",
       "      <td>0</td>\n",
       "      <td>25</td>\n",
       "      <td>-0.4000</td>\n",
       "    </tr>\n",
       "    <tr>\n",
       "      <th>59</th>\n",
       "      <td>1242121385666887681</td>\n",
       "      <td>shutdown deal worse</td>\n",
       "      <td>2020-03-23 16:09:50</td>\n",
       "      <td>2</td>\n",
       "      <td>19</td>\n",
       "      <td>-0.4000</td>\n",
       "    </tr>\n",
       "    <tr>\n",
       "      <th>...</th>\n",
       "      <td>...</td>\n",
       "      <td>...</td>\n",
       "      <td>...</td>\n",
       "      <td>...</td>\n",
       "      <td>...</td>\n",
       "      <td>...</td>\n",
       "    </tr>\n",
       "    <tr>\n",
       "      <th>1172</th>\n",
       "      <td>1242064801540591621</td>\n",
       "      <td>sad god bless u god u</td>\n",
       "      <td>2020-03-23 12:24:59</td>\n",
       "      <td>3</td>\n",
       "      <td>21</td>\n",
       "      <td>-0.5000</td>\n",
       "    </tr>\n",
       "    <tr>\n",
       "      <th>1174</th>\n",
       "      <td>1242064688533438464</td>\n",
       "      <td>poor way anaemic watching</td>\n",
       "      <td>2020-03-23 12:24:32</td>\n",
       "      <td>2</td>\n",
       "      <td>25</td>\n",
       "      <td>-0.4000</td>\n",
       "    </tr>\n",
       "    <tr>\n",
       "      <th>1186</th>\n",
       "      <td>1242064012797530112</td>\n",
       "      <td>time put mandatory hate happening</td>\n",
       "      <td>2020-03-23 12:21:51</td>\n",
       "      <td>1</td>\n",
       "      <td>33</td>\n",
       "      <td>-0.8000</td>\n",
       "    </tr>\n",
       "    <tr>\n",
       "      <th>1188</th>\n",
       "      <td>1242063856727396352</td>\n",
       "      <td>incompetent wont die</td>\n",
       "      <td>2020-03-23 12:21:14</td>\n",
       "      <td>2</td>\n",
       "      <td>20</td>\n",
       "      <td>-0.3500</td>\n",
       "    </tr>\n",
       "    <tr>\n",
       "      <th>1189</th>\n",
       "      <td>1242063643883307008</td>\n",
       "      <td>next corona virus strain even deadly see lippi...</td>\n",
       "      <td>2020-03-23 12:20:23</td>\n",
       "      <td>1</td>\n",
       "      <td>58</td>\n",
       "      <td>-0.1000</td>\n",
       "    </tr>\n",
       "  </tbody>\n",
       "</table>\n",
       "<p>183 rows × 6 columns</p>\n",
       "</div>"
      ],
      "text/plain": [
       "                 tweet_id                                               text  \\\n",
       "10    1242099789694750720                      need help mean corona na cure   \n",
       "11    1242099788893564929         money anaemic difficult chose dying hunger   \n",
       "27    1242122438814715904         time want see coming help poor society see   \n",
       "40    1242122030373318657                          logic behind gap bathroom   \n",
       "59    1242121385666887681                                shutdown deal worse   \n",
       "...                   ...                                                ...   \n",
       "1172  1242064801540591621                              sad god bless u god u   \n",
       "1174  1242064688533438464                          poor way anaemic watching   \n",
       "1186  1242064012797530112                  time put mandatory hate happening   \n",
       "1188  1242063856727396352                               incompetent wont die   \n",
       "1189  1242063643883307008  next corona virus strain even deadly see lippi...   \n",
       "\n",
       "               created_at  likes  text length  polarity  \n",
       "10    2020-03-23 14:44:01      1           29   -0.3125  \n",
       "11    2020-03-23 14:44:01      0           42   -0.5000  \n",
       "27    2020-03-23 16:14:01      0           42   -0.4000  \n",
       "40    2020-03-23 16:12:24      0           25   -0.4000  \n",
       "59    2020-03-23 16:09:50      2           19   -0.4000  \n",
       "...                   ...    ...          ...       ...  \n",
       "1172  2020-03-23 12:24:59      3           21   -0.5000  \n",
       "1174  2020-03-23 12:24:32      2           25   -0.4000  \n",
       "1186  2020-03-23 12:21:51      1           33   -0.8000  \n",
       "1188  2020-03-23 12:21:14      2           20   -0.3500  \n",
       "1189  2020-03-23 12:20:23      1           58   -0.1000  \n",
       "\n",
       "[183 rows x 6 columns]"
      ]
     },
     "execution_count": 98,
     "metadata": {},
     "output_type": "execute_result"
    }
   ],
   "source": [
    "tweets[tweets['polarity'] < 0]"
   ]
  },
  {
   "cell_type": "markdown",
   "metadata": {},
   "source": [
    "Tweets with positive polarity"
   ]
  },
  {
   "cell_type": "code",
   "execution_count": 99,
   "metadata": {},
   "outputs": [
    {
     "data": {
      "text/html": [
       "<div>\n",
       "<style scoped>\n",
       "    .dataframe tbody tr th:only-of-type {\n",
       "        vertical-align: middle;\n",
       "    }\n",
       "\n",
       "    .dataframe tbody tr th {\n",
       "        vertical-align: top;\n",
       "    }\n",
       "\n",
       "    .dataframe thead th {\n",
       "        text-align: right;\n",
       "    }\n",
       "</style>\n",
       "<table border=\"1\" class=\"dataframe\">\n",
       "  <thead>\n",
       "    <tr style=\"text-align: right;\">\n",
       "      <th></th>\n",
       "      <th>tweet_id</th>\n",
       "      <th>text</th>\n",
       "      <th>created_at</th>\n",
       "      <th>likes</th>\n",
       "      <th>text length</th>\n",
       "      <th>polarity</th>\n",
       "    </tr>\n",
       "  </thead>\n",
       "  <tbody>\n",
       "    <tr>\n",
       "      <th>0</th>\n",
       "      <td>1242123434466979841</td>\n",
       "      <td>everyday might good there always something goo...</td>\n",
       "      <td>2020-03-23 16:17:58</td>\n",
       "      <td>1</td>\n",
       "      <td>57</td>\n",
       "      <td>0.400000</td>\n",
       "    </tr>\n",
       "    <tr>\n",
       "      <th>8</th>\n",
       "      <td>1242069774231887880</td>\n",
       "      <td>wish would much presidential address waiting t...</td>\n",
       "      <td>2020-03-23 12:44:45</td>\n",
       "      <td>2</td>\n",
       "      <td>50</td>\n",
       "      <td>0.200000</td>\n",
       "    </tr>\n",
       "    <tr>\n",
       "      <th>13</th>\n",
       "      <td>1242116336739913728</td>\n",
       "      <td>taken since last buy gas different life normal...</td>\n",
       "      <td>2020-03-23 15:49:46</td>\n",
       "      <td>1</td>\n",
       "      <td>54</td>\n",
       "      <td>0.037500</td>\n",
       "    </tr>\n",
       "    <tr>\n",
       "      <th>16</th>\n",
       "      <td>1242122964608434181</td>\n",
       "      <td>safe stop spread could</td>\n",
       "      <td>2020-03-23 16:16:06</td>\n",
       "      <td>1</td>\n",
       "      <td>22</td>\n",
       "      <td>0.500000</td>\n",
       "    </tr>\n",
       "    <tr>\n",
       "      <th>20</th>\n",
       "      <td>1242099340342067203</td>\n",
       "      <td>confirmed one case confirmed today</td>\n",
       "      <td>2020-03-23 14:42:14</td>\n",
       "      <td>5</td>\n",
       "      <td>34</td>\n",
       "      <td>0.400000</td>\n",
       "    </tr>\n",
       "    <tr>\n",
       "      <th>...</th>\n",
       "      <td>...</td>\n",
       "      <td>...</td>\n",
       "      <td>...</td>\n",
       "      <td>...</td>\n",
       "      <td>...</td>\n",
       "      <td>...</td>\n",
       "    </tr>\n",
       "    <tr>\n",
       "      <th>1168</th>\n",
       "      <td>1242064900278620160</td>\n",
       "      <td>go many to please na k</td>\n",
       "      <td>2020-03-23 12:25:23</td>\n",
       "      <td>2</td>\n",
       "      <td>22</td>\n",
       "      <td>0.500000</td>\n",
       "    </tr>\n",
       "    <tr>\n",
       "      <th>1170</th>\n",
       "      <td>1242064847866662913</td>\n",
       "      <td>way taking win though</td>\n",
       "      <td>2020-03-23 12:25:10</td>\n",
       "      <td>1</td>\n",
       "      <td>21</td>\n",
       "      <td>0.800000</td>\n",
       "    </tr>\n",
       "    <tr>\n",
       "      <th>1173</th>\n",
       "      <td>1242064784163573760</td>\n",
       "      <td>dating sugar worth</td>\n",
       "      <td>2020-03-23 12:24:55</td>\n",
       "      <td>2</td>\n",
       "      <td>18</td>\n",
       "      <td>0.300000</td>\n",
       "    </tr>\n",
       "    <tr>\n",
       "      <th>1176</th>\n",
       "      <td>1242064663577272321</td>\n",
       "      <td>advice young looking sugar mummy</td>\n",
       "      <td>2020-03-23 12:24:26</td>\n",
       "      <td>1</td>\n",
       "      <td>32</td>\n",
       "      <td>0.100000</td>\n",
       "    </tr>\n",
       "    <tr>\n",
       "      <th>1185</th>\n",
       "      <td>1242064075405905921</td>\n",
       "      <td>emergency response team sent trace catholic pr...</td>\n",
       "      <td>2020-03-23 12:22:06</td>\n",
       "      <td>4</td>\n",
       "      <td>73</td>\n",
       "      <td>0.113636</td>\n",
       "    </tr>\n",
       "  </tbody>\n",
       "</table>\n",
       "<p>387 rows × 6 columns</p>\n",
       "</div>"
      ],
      "text/plain": [
       "                 tweet_id                                               text  \\\n",
       "0     1242123434466979841  everyday might good there always something goo...   \n",
       "8     1242069774231887880  wish would much presidential address waiting t...   \n",
       "13    1242116336739913728  taken since last buy gas different life normal...   \n",
       "16    1242122964608434181                             safe stop spread could   \n",
       "20    1242099340342067203                 confirmed one case confirmed today   \n",
       "...                   ...                                                ...   \n",
       "1168  1242064900278620160                             go many to please na k   \n",
       "1170  1242064847866662913                              way taking win though   \n",
       "1173  1242064784163573760                                 dating sugar worth   \n",
       "1176  1242064663577272321                   advice young looking sugar mummy   \n",
       "1185  1242064075405905921  emergency response team sent trace catholic pr...   \n",
       "\n",
       "               created_at  likes  text length  polarity  \n",
       "0     2020-03-23 16:17:58      1           57  0.400000  \n",
       "8     2020-03-23 12:44:45      2           50  0.200000  \n",
       "13    2020-03-23 15:49:46      1           54  0.037500  \n",
       "16    2020-03-23 16:16:06      1           22  0.500000  \n",
       "20    2020-03-23 14:42:14      5           34  0.400000  \n",
       "...                   ...    ...          ...       ...  \n",
       "1168  2020-03-23 12:25:23      2           22  0.500000  \n",
       "1170  2020-03-23 12:25:10      1           21  0.800000  \n",
       "1173  2020-03-23 12:24:55      2           18  0.300000  \n",
       "1176  2020-03-23 12:24:26      1           32  0.100000  \n",
       "1185  2020-03-23 12:22:06      4           73  0.113636  \n",
       "\n",
       "[387 rows x 6 columns]"
      ]
     },
     "execution_count": 99,
     "metadata": {},
     "output_type": "execute_result"
    }
   ],
   "source": [
    "tweets[tweets['polarity'] > 0]"
   ]
  },
  {
   "cell_type": "markdown",
   "metadata": {},
   "source": [
    "## Some EDA"
   ]
  },
  {
   "cell_type": "code",
   "execution_count": 100,
   "metadata": {},
   "outputs": [],
   "source": [
    "import matplotlib.pyplot as plt\n",
    "%matplotlib inline\n",
    "\n",
    "import seaborn as sns\n",
    "sns.set_style('whitegrid')"
   ]
  },
  {
   "cell_type": "markdown",
   "metadata": {},
   "source": [
    "**Distribution of polarity**"
   ]
  },
  {
   "cell_type": "code",
   "execution_count": 101,
   "metadata": {},
   "outputs": [
    {
     "data": {
      "text/plain": [
       "<matplotlib.axes._subplots.AxesSubplot at 0x7f11021d9a10>"
      ]
     },
     "execution_count": 101,
     "metadata": {},
     "output_type": "execute_result"
    },
    {
     "data": {
      "image/png": "[encoded data removed]",
      "text/plain": [
       "<Figure size 432x288 with 1 Axes>"
      ]
     },
     "metadata": {},
     "output_type": "display_data"
    }
   ],
   "source": [
    "sns.distplot(tweets['polarity'], bins=50, kde=False)"
   ]
  },
  {
   "cell_type": "markdown",
   "metadata": {},
   "source": [
    "**Distribution of text length**"
   ]
  },
  {
   "cell_type": "code",
   "execution_count": 102,
   "metadata": {},
   "outputs": [
    {
     "data": {
      "text/plain": [
       "<matplotlib.axes._subplots.AxesSubplot at 0x7f1100fec7d0>"
      ]
     },
     "execution_count": 102,
     "metadata": {},
     "output_type": "execute_result"
    },
    {
     "data": {
      "image/png": "[encoded data removed]",
      "text/plain": [
       "<Figure size 432x288 with 1 Axes>"
      ]
     },
     "metadata": {},
     "output_type": "display_data"
    }
   ],
   "source": [
    "sns.distplot(tweets['text length'], kde=False)"
   ]
  },
  {
   "cell_type": "markdown",
   "metadata": {},
   "source": [
    "A jointplot to show relation of text length and polarity"
   ]
  },
  {
   "cell_type": "code",
   "execution_count": 103,
   "metadata": {},
   "outputs": [
    {
     "data": {
      "text/plain": [
       "<seaborn.axisgrid.JointGrid at 0x7f1101f47650>"
      ]
     },
     "execution_count": 103,
     "metadata": {},
     "output_type": "execute_result"
    },
    {
     "data": {
      "image/png": "[encoded data removed]",
      "text/plain": [
       "<Figure size 432x432 with 3 Axes>"
      ]
     },
     "metadata": {},
     "output_type": "display_data"
    }
   ],
   "source": [
    "sns.jointplot(x='polarity', y='text length', data=tweets)"
   ]
  },
  {
   "cell_type": "markdown",
   "metadata": {},
   "source": [
    "Most lengthy(range from 60 to 100) tweets range polarity from -0.25 and 0.25 from the jointplot above  \n",
    "This is roughly around polarity 0, so we wouldn't be wrong to say that most lengthy tweets(in this range) have polarity of 0, or more appealing, around polarity 0  \n",
    "Let's get the mean length of tweets with polarity 0 to see that indeed this length lies in this range(60 to 100)"
   ]
  },
  {
   "cell_type": "code",
   "execution_count": 104,
   "metadata": {},
   "outputs": [
    {
     "data": {
      "text/plain": [
       "31.767741935483873"
      ]
     },
     "execution_count": 104,
     "metadata": {},
     "output_type": "execute_result"
    }
   ],
   "source": [
    "tweets[tweets['polarity']==0]['text length'].mean()"
   ]
  },
  {
   "cell_type": "markdown",
   "metadata": {},
   "source": [
    "To further visualize this fact, let's create the same plot but of hexagonal and regressional nature"
   ]
  },
  {
   "cell_type": "code",
   "execution_count": 105,
   "metadata": {},
   "outputs": [
    {
     "data": {
      "text/plain": [
       "<seaborn.axisgrid.JointGrid at 0x7f1101f47ed0>"
      ]
     },
     "execution_count": 105,
     "metadata": {},
     "output_type": "execute_result"
    },
    {
     "data": {
      "image/png": "[encoded data removed]",
      "text/plain": [
       "<Figure size 432x432 with 3 Axes>"
      ]
     },
     "metadata": {},
     "output_type": "display_data"
    }
   ],
   "source": [
    "sns.jointplot(x='polarity', y='text length', data=tweets, kind='hex')"
   ]
  },
  {
   "cell_type": "code",
   "execution_count": 106,
   "metadata": {},
   "outputs": [
    {
     "data": {
      "text/plain": [
       "<seaborn.axisgrid.JointGrid at 0x7f1101cc94d0>"
      ]
     },
     "execution_count": 106,
     "metadata": {},
     "output_type": "execute_result"
    },
    {
     "data": {
      "image/png": "[encoded data removed]",
      "text/plain": [
       "<Figure size 432x432 with 3 Axes>"
      ]
     },
     "metadata": {},
     "output_type": "display_data"
    }
   ],
   "source": [
    "sns.jointplot(x='polarity', y='text length', data=tweets, kind='reg')"
   ]
  },
  {
   "cell_type": "markdown",
   "metadata": {},
   "source": [
    "From this jointplot we can clearly see that the kde on the upper side of the plot shows some normal distribution around polarity 0  \n",
    "This justifies our above argument that most lengthy(our range of 'lengthy') tweets have polarity of 0 (or around 0)"
   ]
  },
  {
   "cell_type": "markdown",
   "metadata": {},
   "source": [
    "## Project conclusion\n",
    "\n",
    "Clearly, we have seen that like half of the tweets have polarity of around 0.  \n",
    "Does this mean that when a population is under such fear and anxiety of an epidemic, their messages express no negativity or positivity but are more neutral?"
   ]
  },
  {
   "cell_type": "markdown",
   "metadata": {},
   "source": [
    "## Model Building\n",
    "\n",
    "I'll build a simple model with this data to conclude the project.  \n",
    "See the [other](https://github.com/lyraxvincent/sentiment-analysis/blob/master/sentiment%20classifier%20modeling.ipynb) notebook in this project folder for the model building part."
   ]
  },
  {
   "cell_type": "code",
   "execution_count": 108,
   "metadata": {},
   "outputs": [],
   "source": [
    "# Saving th data for further use in the model building phase\n",
    "##\n",
    "tweets.to_csv(\"tweets.csv\", index=False)"
   ]
  }
 ],
 "metadata": {
  "kernelspec": {
   "display_name": "Python 3",
   "language": "python",
   "name": "python3"
  },
  "language_info": {
   "codemirror_mode": {
    "name": "ipython",
    "version": 3
   },
   "file_extension": ".py",
   "mimetype": "text/x-python",
   "name": "python",
   "nbconvert_exporter": "python",
   "pygments_lexer": "ipython3",
   "version": "3.8.3rc1"
  }
 },
 "nbformat": 4,
 "nbformat_minor": 4
}
